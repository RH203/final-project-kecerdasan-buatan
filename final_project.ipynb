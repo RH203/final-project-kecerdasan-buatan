{
 "cells": [
  {
   "cell_type": "code",
   "id": "initial_id",
   "metadata": {
    "collapsed": true,
    "ExecuteTime": {
     "end_time": "2024-12-20T14:16:35.186850Z",
     "start_time": "2024-12-20T14:16:34.451368Z"
    }
   },
   "source": [
    "import pandas as pd\n",
    "from sklearn.metrics import accuracy_score, confusion_matrix, classification_report\n",
    "from sklearn.model_selection import train_test_split\n",
    "from knn import KNN"
   ],
   "outputs": [],
   "execution_count": 1
  },
  {
   "metadata": {
    "ExecuteTime": {
     "end_time": "2024-12-20T14:16:35.202093Z",
     "start_time": "2024-12-20T14:16:35.195142Z"
    }
   },
   "cell_type": "code",
   "source": [
    "def replace_day_with_number(df, cols):\n",
    "    \"\"\"\n",
    "    @param df: pandas DataFrame\n",
    "    @param cols: list of columns to encode\n",
    "    @return: DataFrame dengan hari diganti dengan angka 1-7\n",
    "    \"\"\"\n",
    "    # Pemetaan hari ke angka (Senin=1, Selasa=2, dst)\n",
    "    day_to_number = {\n",
    "        'Monday': 1,\n",
    "        'Tuesday': 2,\n",
    "        'Wednesday': 3,\n",
    "        'Thursday': 4,\n",
    "        'Friday': 5,\n",
    "        'Saturday': 6,\n",
    "        'Sunday': 7\n",
    "    }\n",
    "\n",
    "    for each in cols:\n",
    "        # Mengganti nilai hari dengan angka menggunakan pemetaan\n",
    "        df[each] = df[each].map(day_to_number)\n",
    "    return df\n",
    "\n",
    "def replace_traffic_situation(df, cols):\n",
    "    \"\"\"\n",
    "    @param df: pandas DataFrame\n",
    "    @param cols: list of columns to encode\n",
    "    @return: DataFrame dengan hari diganti dengan angka 1-7\n",
    "    \"\"\"\n",
    "    # Pemetaan hari ke angka (Senin=1, Selasa=2, dst)\n",
    "    situation_to_number = {\n",
    "        'low': 1,\n",
    "        'normal': 2,\n",
    "        'heavy': 3,\n",
    "        'high': 4,\n",
    "    }\n",
    "\n",
    "    for each in cols:\n",
    "        # Mengganti nilai hari dengan angka menggunakan pemetaan\n",
    "        df[each] = df[each].map(situation_to_number)\n",
    "    return df\n",
    "\n",
    "# Fungsi untuk mengkategorikan waktu\n",
    "def kategori_waktu(jam):\n",
    "    if 6 <= jam < 10:\n",
    "        return 0 # Pagi\n",
    "    elif 10 <= jam < 15:\n",
    "        return 1 # Siang\n",
    "    elif 15 <= jam < 18:\n",
    "        return 2 # Sore\n",
    "    elif 18 <= jam < 22:\n",
    "        return 3 # Malam\n",
    "    else:\n",
    "        return 4 # Malam Menjelang Pagi\n",
    "\n",
    "\n",
    "def convert_traffic_situation_to_answer(predictions):\n",
    "    \"\"\"\n",
    "    Mengonversi hasil prediksi angka (1, 2, 3, 4) menjadi jawaban kategori.\n",
    "\n",
    "    @param predictions: list atau array berisi angka hasil prediksi\n",
    "    @return: list atau array berisi jawaban kategori\n",
    "    \"\"\"\n",
    "    # Pemetaan angka ke jawaban kategori\n",
    "    number_to_answer = {\n",
    "        1: 'low',\n",
    "        2: 'normal',\n",
    "        3: 'heavy',\n",
    "        4: 'high'\n",
    "    }\n",
    "\n",
    "    for key, value in number_to_answer.items():\n",
    "        if key == predictions:\n",
    "            return value\n",
    "\n",
    "    return None\n"
   ],
   "id": "14257fbead9f34b1",
   "outputs": [],
   "execution_count": 2
  },
  {
   "metadata": {
    "ExecuteTime": {
     "end_time": "2024-12-20T14:16:35.272553Z",
     "start_time": "2024-12-20T14:16:35.263210Z"
    }
   },
   "cell_type": "code",
   "source": [
    "dataset = pd.read_csv(\"dataset/Traffic.csv\")\n",
    "dataset.dtypes"
   ],
   "id": "12240c55f0a6e7bb",
   "outputs": [
    {
     "data": {
      "text/plain": [
       "Time                 object\n",
       "Date                  int64\n",
       "Day of the week      object\n",
       "CarCount              int64\n",
       "BikeCount             int64\n",
       "BusCount              int64\n",
       "TruckCount            int64\n",
       "Total                 int64\n",
       "Traffic Situation    object\n",
       "dtype: object"
      ]
     },
     "execution_count": 3,
     "metadata": {},
     "output_type": "execute_result"
    }
   ],
   "execution_count": 3
  },
  {
   "metadata": {
    "ExecuteTime": {
     "end_time": "2024-12-20T14:16:35.346960Z",
     "start_time": "2024-12-20T14:16:35.341477Z"
    }
   },
   "cell_type": "code",
   "source": "dataset.isnull().sum()",
   "id": "896f05a06f3d32fb",
   "outputs": [
    {
     "data": {
      "text/plain": [
       "Time                 0\n",
       "Date                 0\n",
       "Day of the week      0\n",
       "CarCount             0\n",
       "BikeCount            0\n",
       "BusCount             0\n",
       "TruckCount           0\n",
       "Total                0\n",
       "Traffic Situation    0\n",
       "dtype: int64"
      ]
     },
     "execution_count": 4,
     "metadata": {},
     "output_type": "execute_result"
    }
   ],
   "execution_count": 4
  },
  {
   "metadata": {
    "ExecuteTime": {
     "end_time": "2024-12-20T14:16:35.433980Z",
     "start_time": "2024-12-20T14:16:35.429664Z"
    }
   },
   "cell_type": "code",
   "source": "dataset.columns",
   "id": "24ed10a9dd3310f1",
   "outputs": [
    {
     "data": {
      "text/plain": [
       "Index(['Time', 'Date', 'Day of the week', 'CarCount', 'BikeCount', 'BusCount',\n",
       "       'TruckCount', 'Total', 'Traffic Situation'],\n",
       "      dtype='object')"
      ]
     },
     "execution_count": 5,
     "metadata": {},
     "output_type": "execute_result"
    }
   ],
   "execution_count": 5
  },
  {
   "metadata": {
    "ExecuteTime": {
     "end_time": "2024-12-20T14:16:35.551529Z",
     "start_time": "2024-12-20T14:16:35.546859Z"
    }
   },
   "cell_type": "code",
   "source": "dataset['Date'].unique()",
   "id": "6a1427f312a9da76",
   "outputs": [
    {
     "data": {
      "text/plain": [
       "array([10, 11, 12, 13, 14, 15, 16, 17, 18, 19, 20, 21, 22, 23, 24, 25, 26,\n",
       "       27, 28, 29, 30, 31,  1,  2,  3,  4,  5,  6,  7,  8,  9])"
      ]
     },
     "execution_count": 6,
     "metadata": {},
     "output_type": "execute_result"
    }
   ],
   "execution_count": 6
  },
  {
   "metadata": {
    "ExecuteTime": {
     "end_time": "2024-12-20T14:16:35.683002Z",
     "start_time": "2024-12-20T14:16:35.679950Z"
    }
   },
   "cell_type": "code",
   "source": "dataset['Day of the week'].unique()",
   "id": "75c9e3a6d7b5d117",
   "outputs": [
    {
     "data": {
      "text/plain": [
       "array(['Tuesday', 'Wednesday', 'Thursday', 'Friday', 'Saturday', 'Sunday',\n",
       "       'Monday'], dtype=object)"
      ]
     },
     "execution_count": 7,
     "metadata": {},
     "output_type": "execute_result"
    }
   ],
   "execution_count": 7
  },
  {
   "metadata": {
    "ExecuteTime": {
     "end_time": "2024-12-20T14:16:35.763081Z",
     "start_time": "2024-12-20T14:16:35.760108Z"
    }
   },
   "cell_type": "code",
   "source": "dataset['Traffic Situation'].unique()",
   "id": "2a81fa561d140b89",
   "outputs": [
    {
     "data": {
      "text/plain": [
       "array(['low', 'normal', 'heavy', 'high'], dtype=object)"
      ]
     },
     "execution_count": 8,
     "metadata": {},
     "output_type": "execute_result"
    }
   ],
   "execution_count": 8
  },
  {
   "metadata": {
    "ExecuteTime": {
     "end_time": "2024-12-20T14:16:35.822655Z",
     "start_time": "2024-12-20T14:16:35.818592Z"
    }
   },
   "cell_type": "code",
   "source": "dataset['Time'].unique()",
   "id": "6f305a0fb0ffea3e",
   "outputs": [
    {
     "data": {
      "text/plain": [
       "array(['12:00:00 AM', '12:15:00 AM', '12:30:00 AM', '12:45:00 AM',\n",
       "       '1:00:00 AM', '1:15:00 AM', '1:30:00 AM', '1:45:00 AM',\n",
       "       '2:00:00 AM', '2:15:00 AM', '2:30:00 AM', '2:45:00 AM',\n",
       "       '3:00:00 AM', '3:15:00 AM', '3:30:00 AM', '3:45:00 AM',\n",
       "       '4:00:00 AM', '4:15:00 AM', '4:30:00 AM', '4:45:00 AM',\n",
       "       '5:00:00 AM', '5:15:00 AM', '5:30:00 AM', '5:45:00 AM',\n",
       "       '6:00:00 AM', '6:15:00 AM', '6:30:00 AM', '6:45:00 AM',\n",
       "       '7:00:00 AM', '7:15:00 AM', '7:30:00 AM', '7:45:00 AM',\n",
       "       '8:00:00 AM', '8:15:00 AM', '8:30:00 AM', '8:45:00 AM',\n",
       "       '9:00:00 AM', '9:15:00 AM', '9:30:00 AM', '9:45:00 AM',\n",
       "       '10:00:00 AM', '10:15:00 AM', '10:30:00 AM', '10:45:00 AM',\n",
       "       '11:00:00 AM', '11:15:00 AM', '11:30:00 AM', '11:45:00 AM',\n",
       "       '12:00:00 PM', '12:15:00 PM', '12:30:00 PM', '12:45:00 PM',\n",
       "       '1:00:00 PM', '1:15:00 PM', '1:30:00 PM', '1:45:00 PM',\n",
       "       '2:00:00 PM', '2:15:00 PM', '2:30:00 PM', '2:45:00 PM',\n",
       "       '3:00:00 PM', '3:15:00 PM', '3:30:00 PM', '3:45:00 PM',\n",
       "       '4:00:00 PM', '4:15:00 PM', '4:30:00 PM', '4:45:00 PM',\n",
       "       '5:00:00 PM', '5:15:00 PM', '5:30:00 PM', '5:45:00 PM',\n",
       "       '6:00:00 PM', '6:15:00 PM', '6:30:00 PM', '6:45:00 PM',\n",
       "       '7:00:00 PM', '7:15:00 PM', '7:30:00 PM', '7:45:00 PM',\n",
       "       '8:00:00 PM', '8:15:00 PM', '8:30:00 PM', '8:45:00 PM',\n",
       "       '9:00:00 PM', '9:15:00 PM', '9:30:00 PM', '9:45:00 PM',\n",
       "       '10:00:00 PM', '10:15:00 PM', '10:30:00 PM', '10:45:00 PM',\n",
       "       '11:00:00 PM', '11:15:00 PM', '11:30:00 PM', '11:45:00 PM'],\n",
       "      dtype=object)"
      ]
     },
     "execution_count": 9,
     "metadata": {},
     "output_type": "execute_result"
    }
   ],
   "execution_count": 9
  },
  {
   "metadata": {
    "ExecuteTime": {
     "end_time": "2024-12-20T14:16:35.914804Z",
     "start_time": "2024-12-20T14:16:35.905929Z"
    }
   },
   "cell_type": "code",
   "source": [
    "# Data waktu dalam format AM/PM\n",
    "waktu = ['12:00:00 AM', '12:15:00 AM', '12:30:00 AM', '12:45:00 AM',\n",
    "         '1:00:00 AM', '1:15:00 AM', '1:30:00 AM', '1:45:00 AM',\n",
    "         '2:00:00 AM', '2:15:00 AM', '2:30:00 AM', '2:45:00 AM',\n",
    "         '3:00:00 AM', '3:15:00 AM', '3:30:00 AM', '3:45:00 AM',\n",
    "         '4:00:00 AM', '4:15:00 AM', '4:30:00 AM', '4:45:00 AM',\n",
    "         '5:00:00 AM', '5:15:00 AM', '5:30:00 AM', '5:45:00 AM',\n",
    "         '6:00:00 AM', '6:15:00 AM', '6:30:00 AM', '6:45:00 AM',\n",
    "         '7:00:00 AM', '7:15:00 AM', '7:30:00 AM', '7:45:00 AM',\n",
    "         '8:00:00 AM', '8:15:00 AM', '8:30:00 AM', '8:45:00 AM',\n",
    "         '9:00:00 AM', '9:15:00 AM', '9:30:00 AM', '9:45:00 AM',\n",
    "         '10:00:00 AM', '10:15:00 AM', '10:30:00 AM', '10:45:00 AM',\n",
    "         '11:00:00 AM', '11:15:00 AM', '11:30:00 AM', '11:45:00 AM',\n",
    "         '12:00:00 PM', '12:15:00 PM', '12:30:00 PM', '12:45:00 PM',\n",
    "         '1:00:00 PM', '1:15:00 PM', '1:30:00 PM', '1:45:00 PM',\n",
    "         '2:00:00 PM', '2:15:00 PM', '2:30:00 PM', '2:45:00 PM',\n",
    "         '3:00:00 PM', '3:15:00 PM', '3:30:00 PM', '3:45:00 PM',\n",
    "         '4:00:00 PM', '4:15:00 PM', '4:30:00 PM', '4:45:00 PM',\n",
    "         '5:00:00 PM', '5:15:00 PM', '5:30:00 PM', '5:45:00 PM',\n",
    "         '6:00:00 PM', '6:15:00 PM', '6:30:00 PM', '6:45:00 PM',\n",
    "         '7:00:00 PM', '7:15:00 PM', '7:30:00 PM', '7:45:00 PM',\n",
    "         '8:00:00 PM', '8:15:00 PM', '8:30:00 PM', '8:45:00 PM',\n",
    "         '9:00:00 PM', '9:15:00 PM', '9:30:00 PM', '9:45:00 PM',\n",
    "         '10:00:00 PM', '10:15:00 PM', '10:30:00 PM', '10:45:00 PM',\n",
    "         '11:00:00 PM', '11:15:00 PM', '11:30:00 PM', '11:45:00 PM']\n",
    "\n",
    "\n",
    "# Konversi kolom 'Time' menjadi datetime (tanpa mengubah DataFrame asli)\n",
    "dataset['Waktu'] = pd.to_datetime(dataset['Time'], format='%I:%M:%S %p')\n",
    "\n",
    "\n",
    "# Tambahkan kolom 'Kategori Waktu' tanpa mengubah kolom lain\n",
    "dataset['Kategori Waktu'] = dataset['Waktu'].dt.hour.apply(kategori_waktu)\n",
    "\n",
    "# Hapus kolom 'Waktu' jika tidak diperlukan\n",
    "dataset.drop('Waktu', axis=1, inplace=True)\n",
    "\n"
   ],
   "id": "faefe9472b813822",
   "outputs": [],
   "execution_count": 10
  },
  {
   "metadata": {
    "ExecuteTime": {
     "end_time": "2024-12-20T14:16:35.989981Z",
     "start_time": "2024-12-20T14:16:35.984368Z"
    }
   },
   "cell_type": "code",
   "source": "dataset.head()",
   "id": "7576d2caa6a736c2",
   "outputs": [
    {
     "data": {
      "text/plain": [
       "          Time  Date Day of the week  CarCount  BikeCount  BusCount  \\\n",
       "0  12:00:00 AM    10         Tuesday        31          0         4   \n",
       "1  12:15:00 AM    10         Tuesday        49          0         3   \n",
       "2  12:30:00 AM    10         Tuesday        46          0         3   \n",
       "3  12:45:00 AM    10         Tuesday        51          0         2   \n",
       "4   1:00:00 AM    10         Tuesday        57          6        15   \n",
       "\n",
       "   TruckCount  Total Traffic Situation  Kategori Waktu  \n",
       "0           4     39               low               4  \n",
       "1           3     55               low               4  \n",
       "2           6     55               low               4  \n",
       "3           5     58               low               4  \n",
       "4          16     94            normal               4  "
      ],
      "text/html": [
       "<div>\n",
       "<style scoped>\n",
       "    .dataframe tbody tr th:only-of-type {\n",
       "        vertical-align: middle;\n",
       "    }\n",
       "\n",
       "    .dataframe tbody tr th {\n",
       "        vertical-align: top;\n",
       "    }\n",
       "\n",
       "    .dataframe thead th {\n",
       "        text-align: right;\n",
       "    }\n",
       "</style>\n",
       "<table border=\"1\" class=\"dataframe\">\n",
       "  <thead>\n",
       "    <tr style=\"text-align: right;\">\n",
       "      <th></th>\n",
       "      <th>Time</th>\n",
       "      <th>Date</th>\n",
       "      <th>Day of the week</th>\n",
       "      <th>CarCount</th>\n",
       "      <th>BikeCount</th>\n",
       "      <th>BusCount</th>\n",
       "      <th>TruckCount</th>\n",
       "      <th>Total</th>\n",
       "      <th>Traffic Situation</th>\n",
       "      <th>Kategori Waktu</th>\n",
       "    </tr>\n",
       "  </thead>\n",
       "  <tbody>\n",
       "    <tr>\n",
       "      <th>0</th>\n",
       "      <td>12:00:00 AM</td>\n",
       "      <td>10</td>\n",
       "      <td>Tuesday</td>\n",
       "      <td>31</td>\n",
       "      <td>0</td>\n",
       "      <td>4</td>\n",
       "      <td>4</td>\n",
       "      <td>39</td>\n",
       "      <td>low</td>\n",
       "      <td>4</td>\n",
       "    </tr>\n",
       "    <tr>\n",
       "      <th>1</th>\n",
       "      <td>12:15:00 AM</td>\n",
       "      <td>10</td>\n",
       "      <td>Tuesday</td>\n",
       "      <td>49</td>\n",
       "      <td>0</td>\n",
       "      <td>3</td>\n",
       "      <td>3</td>\n",
       "      <td>55</td>\n",
       "      <td>low</td>\n",
       "      <td>4</td>\n",
       "    </tr>\n",
       "    <tr>\n",
       "      <th>2</th>\n",
       "      <td>12:30:00 AM</td>\n",
       "      <td>10</td>\n",
       "      <td>Tuesday</td>\n",
       "      <td>46</td>\n",
       "      <td>0</td>\n",
       "      <td>3</td>\n",
       "      <td>6</td>\n",
       "      <td>55</td>\n",
       "      <td>low</td>\n",
       "      <td>4</td>\n",
       "    </tr>\n",
       "    <tr>\n",
       "      <th>3</th>\n",
       "      <td>12:45:00 AM</td>\n",
       "      <td>10</td>\n",
       "      <td>Tuesday</td>\n",
       "      <td>51</td>\n",
       "      <td>0</td>\n",
       "      <td>2</td>\n",
       "      <td>5</td>\n",
       "      <td>58</td>\n",
       "      <td>low</td>\n",
       "      <td>4</td>\n",
       "    </tr>\n",
       "    <tr>\n",
       "      <th>4</th>\n",
       "      <td>1:00:00 AM</td>\n",
       "      <td>10</td>\n",
       "      <td>Tuesday</td>\n",
       "      <td>57</td>\n",
       "      <td>6</td>\n",
       "      <td>15</td>\n",
       "      <td>16</td>\n",
       "      <td>94</td>\n",
       "      <td>normal</td>\n",
       "      <td>4</td>\n",
       "    </tr>\n",
       "  </tbody>\n",
       "</table>\n",
       "</div>"
      ]
     },
     "execution_count": 11,
     "metadata": {},
     "output_type": "execute_result"
    }
   ],
   "execution_count": 11
  },
  {
   "metadata": {
    "ExecuteTime": {
     "end_time": "2024-12-20T14:16:36.060587Z",
     "start_time": "2024-12-20T14:16:36.056079Z"
    }
   },
   "cell_type": "code",
   "source": "dataset['Kategori Waktu'].value_counts()",
   "id": "f12c1f1b0f72c8cc",
   "outputs": [
    {
     "data": {
      "text/plain": [
       "Kategori Waktu\n",
       "4    992\n",
       "1    620\n",
       "0    496\n",
       "3    496\n",
       "2    372\n",
       "Name: count, dtype: int64"
      ]
     },
     "execution_count": 12,
     "metadata": {},
     "output_type": "execute_result"
    }
   ],
   "execution_count": 12
  },
  {
   "metadata": {
    "ExecuteTime": {
     "end_time": "2024-12-20T14:16:36.109864Z",
     "start_time": "2024-12-20T14:16:36.104441Z"
    }
   },
   "cell_type": "code",
   "source": "dataset.head()",
   "id": "bb93aa66cad96843",
   "outputs": [
    {
     "data": {
      "text/plain": [
       "          Time  Date Day of the week  CarCount  BikeCount  BusCount  \\\n",
       "0  12:00:00 AM    10         Tuesday        31          0         4   \n",
       "1  12:15:00 AM    10         Tuesday        49          0         3   \n",
       "2  12:30:00 AM    10         Tuesday        46          0         3   \n",
       "3  12:45:00 AM    10         Tuesday        51          0         2   \n",
       "4   1:00:00 AM    10         Tuesday        57          6        15   \n",
       "\n",
       "   TruckCount  Total Traffic Situation  Kategori Waktu  \n",
       "0           4     39               low               4  \n",
       "1           3     55               low               4  \n",
       "2           6     55               low               4  \n",
       "3           5     58               low               4  \n",
       "4          16     94            normal               4  "
      ],
      "text/html": [
       "<div>\n",
       "<style scoped>\n",
       "    .dataframe tbody tr th:only-of-type {\n",
       "        vertical-align: middle;\n",
       "    }\n",
       "\n",
       "    .dataframe tbody tr th {\n",
       "        vertical-align: top;\n",
       "    }\n",
       "\n",
       "    .dataframe thead th {\n",
       "        text-align: right;\n",
       "    }\n",
       "</style>\n",
       "<table border=\"1\" class=\"dataframe\">\n",
       "  <thead>\n",
       "    <tr style=\"text-align: right;\">\n",
       "      <th></th>\n",
       "      <th>Time</th>\n",
       "      <th>Date</th>\n",
       "      <th>Day of the week</th>\n",
       "      <th>CarCount</th>\n",
       "      <th>BikeCount</th>\n",
       "      <th>BusCount</th>\n",
       "      <th>TruckCount</th>\n",
       "      <th>Total</th>\n",
       "      <th>Traffic Situation</th>\n",
       "      <th>Kategori Waktu</th>\n",
       "    </tr>\n",
       "  </thead>\n",
       "  <tbody>\n",
       "    <tr>\n",
       "      <th>0</th>\n",
       "      <td>12:00:00 AM</td>\n",
       "      <td>10</td>\n",
       "      <td>Tuesday</td>\n",
       "      <td>31</td>\n",
       "      <td>0</td>\n",
       "      <td>4</td>\n",
       "      <td>4</td>\n",
       "      <td>39</td>\n",
       "      <td>low</td>\n",
       "      <td>4</td>\n",
       "    </tr>\n",
       "    <tr>\n",
       "      <th>1</th>\n",
       "      <td>12:15:00 AM</td>\n",
       "      <td>10</td>\n",
       "      <td>Tuesday</td>\n",
       "      <td>49</td>\n",
       "      <td>0</td>\n",
       "      <td>3</td>\n",
       "      <td>3</td>\n",
       "      <td>55</td>\n",
       "      <td>low</td>\n",
       "      <td>4</td>\n",
       "    </tr>\n",
       "    <tr>\n",
       "      <th>2</th>\n",
       "      <td>12:30:00 AM</td>\n",
       "      <td>10</td>\n",
       "      <td>Tuesday</td>\n",
       "      <td>46</td>\n",
       "      <td>0</td>\n",
       "      <td>3</td>\n",
       "      <td>6</td>\n",
       "      <td>55</td>\n",
       "      <td>low</td>\n",
       "      <td>4</td>\n",
       "    </tr>\n",
       "    <tr>\n",
       "      <th>3</th>\n",
       "      <td>12:45:00 AM</td>\n",
       "      <td>10</td>\n",
       "      <td>Tuesday</td>\n",
       "      <td>51</td>\n",
       "      <td>0</td>\n",
       "      <td>2</td>\n",
       "      <td>5</td>\n",
       "      <td>58</td>\n",
       "      <td>low</td>\n",
       "      <td>4</td>\n",
       "    </tr>\n",
       "    <tr>\n",
       "      <th>4</th>\n",
       "      <td>1:00:00 AM</td>\n",
       "      <td>10</td>\n",
       "      <td>Tuesday</td>\n",
       "      <td>57</td>\n",
       "      <td>6</td>\n",
       "      <td>15</td>\n",
       "      <td>16</td>\n",
       "      <td>94</td>\n",
       "      <td>normal</td>\n",
       "      <td>4</td>\n",
       "    </tr>\n",
       "  </tbody>\n",
       "</table>\n",
       "</div>"
      ]
     },
     "execution_count": 13,
     "metadata": {},
     "output_type": "execute_result"
    }
   ],
   "execution_count": 13
  },
  {
   "metadata": {
    "ExecuteTime": {
     "end_time": "2024-12-20T14:16:36.194566Z",
     "start_time": "2024-12-20T14:16:36.188583Z"
    }
   },
   "cell_type": "code",
   "source": [
    "dataset = replace_day_with_number(dataset, ['Day of the week'])\n",
    "dataset = replace_traffic_situation(dataset, ['Traffic Situation'])\n",
    "dataset.head()"
   ],
   "id": "a09bf03bf6b362ce",
   "outputs": [
    {
     "data": {
      "text/plain": [
       "          Time  Date  Day of the week  CarCount  BikeCount  BusCount  \\\n",
       "0  12:00:00 AM    10                2        31          0         4   \n",
       "1  12:15:00 AM    10                2        49          0         3   \n",
       "2  12:30:00 AM    10                2        46          0         3   \n",
       "3  12:45:00 AM    10                2        51          0         2   \n",
       "4   1:00:00 AM    10                2        57          6        15   \n",
       "\n",
       "   TruckCount  Total  Traffic Situation  Kategori Waktu  \n",
       "0           4     39                  1               4  \n",
       "1           3     55                  1               4  \n",
       "2           6     55                  1               4  \n",
       "3           5     58                  1               4  \n",
       "4          16     94                  2               4  "
      ],
      "text/html": [
       "<div>\n",
       "<style scoped>\n",
       "    .dataframe tbody tr th:only-of-type {\n",
       "        vertical-align: middle;\n",
       "    }\n",
       "\n",
       "    .dataframe tbody tr th {\n",
       "        vertical-align: top;\n",
       "    }\n",
       "\n",
       "    .dataframe thead th {\n",
       "        text-align: right;\n",
       "    }\n",
       "</style>\n",
       "<table border=\"1\" class=\"dataframe\">\n",
       "  <thead>\n",
       "    <tr style=\"text-align: right;\">\n",
       "      <th></th>\n",
       "      <th>Time</th>\n",
       "      <th>Date</th>\n",
       "      <th>Day of the week</th>\n",
       "      <th>CarCount</th>\n",
       "      <th>BikeCount</th>\n",
       "      <th>BusCount</th>\n",
       "      <th>TruckCount</th>\n",
       "      <th>Total</th>\n",
       "      <th>Traffic Situation</th>\n",
       "      <th>Kategori Waktu</th>\n",
       "    </tr>\n",
       "  </thead>\n",
       "  <tbody>\n",
       "    <tr>\n",
       "      <th>0</th>\n",
       "      <td>12:00:00 AM</td>\n",
       "      <td>10</td>\n",
       "      <td>2</td>\n",
       "      <td>31</td>\n",
       "      <td>0</td>\n",
       "      <td>4</td>\n",
       "      <td>4</td>\n",
       "      <td>39</td>\n",
       "      <td>1</td>\n",
       "      <td>4</td>\n",
       "    </tr>\n",
       "    <tr>\n",
       "      <th>1</th>\n",
       "      <td>12:15:00 AM</td>\n",
       "      <td>10</td>\n",
       "      <td>2</td>\n",
       "      <td>49</td>\n",
       "      <td>0</td>\n",
       "      <td>3</td>\n",
       "      <td>3</td>\n",
       "      <td>55</td>\n",
       "      <td>1</td>\n",
       "      <td>4</td>\n",
       "    </tr>\n",
       "    <tr>\n",
       "      <th>2</th>\n",
       "      <td>12:30:00 AM</td>\n",
       "      <td>10</td>\n",
       "      <td>2</td>\n",
       "      <td>46</td>\n",
       "      <td>0</td>\n",
       "      <td>3</td>\n",
       "      <td>6</td>\n",
       "      <td>55</td>\n",
       "      <td>1</td>\n",
       "      <td>4</td>\n",
       "    </tr>\n",
       "    <tr>\n",
       "      <th>3</th>\n",
       "      <td>12:45:00 AM</td>\n",
       "      <td>10</td>\n",
       "      <td>2</td>\n",
       "      <td>51</td>\n",
       "      <td>0</td>\n",
       "      <td>2</td>\n",
       "      <td>5</td>\n",
       "      <td>58</td>\n",
       "      <td>1</td>\n",
       "      <td>4</td>\n",
       "    </tr>\n",
       "    <tr>\n",
       "      <th>4</th>\n",
       "      <td>1:00:00 AM</td>\n",
       "      <td>10</td>\n",
       "      <td>2</td>\n",
       "      <td>57</td>\n",
       "      <td>6</td>\n",
       "      <td>15</td>\n",
       "      <td>16</td>\n",
       "      <td>94</td>\n",
       "      <td>2</td>\n",
       "      <td>4</td>\n",
       "    </tr>\n",
       "  </tbody>\n",
       "</table>\n",
       "</div>"
      ]
     },
     "execution_count": 14,
     "metadata": {},
     "output_type": "execute_result"
    }
   ],
   "execution_count": 14
  },
  {
   "metadata": {
    "ExecuteTime": {
     "end_time": "2024-12-20T14:16:36.361166Z",
     "start_time": "2024-12-20T14:16:36.358830Z"
    }
   },
   "cell_type": "code",
   "source": "print(dataset.dtypes)",
   "id": "c8b34be4a4ad721d",
   "outputs": [
    {
     "name": "stdout",
     "output_type": "stream",
     "text": [
      "Time                 object\n",
      "Date                  int64\n",
      "Day of the week       int64\n",
      "CarCount              int64\n",
      "BikeCount             int64\n",
      "BusCount              int64\n",
      "TruckCount            int64\n",
      "Total                 int64\n",
      "Traffic Situation     int64\n",
      "Kategori Waktu        int64\n",
      "dtype: object\n"
     ]
    }
   ],
   "execution_count": 15
  },
  {
   "metadata": {
    "ExecuteTime": {
     "end_time": "2024-12-20T14:16:36.411491Z",
     "start_time": "2024-12-20T14:16:36.407562Z"
    }
   },
   "cell_type": "code",
   "source": [
    "dataset.dtypes\n",
    "# dataset = dataset.drop(columns=['Time'])\n"
   ],
   "id": "5235fb805b93689b",
   "outputs": [
    {
     "data": {
      "text/plain": [
       "Time                 object\n",
       "Date                  int64\n",
       "Day of the week       int64\n",
       "CarCount              int64\n",
       "BikeCount             int64\n",
       "BusCount              int64\n",
       "TruckCount            int64\n",
       "Total                 int64\n",
       "Traffic Situation     int64\n",
       "Kategori Waktu        int64\n",
       "dtype: object"
      ]
     },
     "execution_count": 16,
     "metadata": {},
     "output_type": "execute_result"
    }
   ],
   "execution_count": 16
  },
  {
   "metadata": {
    "ExecuteTime": {
     "end_time": "2024-12-20T14:16:36.512872Z",
     "start_time": "2024-12-20T14:16:36.502218Z"
    }
   },
   "cell_type": "code",
   "source": [
    "print(dataset.map(type).nunique())\n",
    "dataset.to_csv('dataset.csv', index=False)"
   ],
   "id": "665416cdb3583ee7",
   "outputs": [
    {
     "name": "stdout",
     "output_type": "stream",
     "text": [
      "Time                 1\n",
      "Date                 1\n",
      "Day of the week      1\n",
      "CarCount             1\n",
      "BikeCount            1\n",
      "BusCount             1\n",
      "TruckCount           1\n",
      "Total                1\n",
      "Traffic Situation    1\n",
      "Kategori Waktu       1\n",
      "dtype: int64\n"
     ]
    }
   ],
   "execution_count": 17
  },
  {
   "metadata": {},
   "cell_type": "markdown",
   "source": "# Training",
   "id": "2f9c6de662c6fa24"
  },
  {
   "metadata": {
    "ExecuteTime": {
     "end_time": "2024-12-20T14:16:36.682819Z",
     "start_time": "2024-12-20T14:16:36.677212Z"
    }
   },
   "cell_type": "code",
   "source": [
    "X = dataset[['Date', 'Day of the week', 'CarCount', 'BikeCount', 'BusCount', 'TruckCount', 'Total', 'Kategori Waktu']]\n",
    "# X = dataset['Date', 'Day of the week']\n",
    "y = dataset['Traffic Situation']"
   ],
   "id": "b6a467eaf1cb7933",
   "outputs": [],
   "execution_count": 18
  },
  {
   "metadata": {
    "ExecuteTime": {
     "end_time": "2024-12-20T14:16:36.710031Z",
     "start_time": "2024-12-20T14:16:36.701042Z"
    }
   },
   "cell_type": "code",
   "source": "X",
   "id": "cf155ab4e92b0290",
   "outputs": [
    {
     "data": {
      "text/plain": [
       "      Date  Day of the week  CarCount  BikeCount  BusCount  TruckCount  Total  \\\n",
       "0       10                2        31          0         4           4     39   \n",
       "1       10                2        49          0         3           3     55   \n",
       "2       10                2        46          0         3           6     55   \n",
       "3       10                2        51          0         2           5     58   \n",
       "4       10                2        57          6        15          16     94   \n",
       "...    ...              ...       ...        ...       ...         ...    ...   \n",
       "2971     9                4        16          3         1          36     56   \n",
       "2972     9                4        11          0         1          30     42   \n",
       "2973     9                4        15          4         1          25     45   \n",
       "2974     9                4        16          5         0          27     48   \n",
       "2975     9                4        14          3         1          15     33   \n",
       "\n",
       "      Kategori Waktu  \n",
       "0                  4  \n",
       "1                  4  \n",
       "2                  4  \n",
       "3                  4  \n",
       "4                  4  \n",
       "...              ...  \n",
       "2971               4  \n",
       "2972               4  \n",
       "2973               4  \n",
       "2974               4  \n",
       "2975               4  \n",
       "\n",
       "[2976 rows x 8 columns]"
      ],
      "text/html": [
       "<div>\n",
       "<style scoped>\n",
       "    .dataframe tbody tr th:only-of-type {\n",
       "        vertical-align: middle;\n",
       "    }\n",
       "\n",
       "    .dataframe tbody tr th {\n",
       "        vertical-align: top;\n",
       "    }\n",
       "\n",
       "    .dataframe thead th {\n",
       "        text-align: right;\n",
       "    }\n",
       "</style>\n",
       "<table border=\"1\" class=\"dataframe\">\n",
       "  <thead>\n",
       "    <tr style=\"text-align: right;\">\n",
       "      <th></th>\n",
       "      <th>Date</th>\n",
       "      <th>Day of the week</th>\n",
       "      <th>CarCount</th>\n",
       "      <th>BikeCount</th>\n",
       "      <th>BusCount</th>\n",
       "      <th>TruckCount</th>\n",
       "      <th>Total</th>\n",
       "      <th>Kategori Waktu</th>\n",
       "    </tr>\n",
       "  </thead>\n",
       "  <tbody>\n",
       "    <tr>\n",
       "      <th>0</th>\n",
       "      <td>10</td>\n",
       "      <td>2</td>\n",
       "      <td>31</td>\n",
       "      <td>0</td>\n",
       "      <td>4</td>\n",
       "      <td>4</td>\n",
       "      <td>39</td>\n",
       "      <td>4</td>\n",
       "    </tr>\n",
       "    <tr>\n",
       "      <th>1</th>\n",
       "      <td>10</td>\n",
       "      <td>2</td>\n",
       "      <td>49</td>\n",
       "      <td>0</td>\n",
       "      <td>3</td>\n",
       "      <td>3</td>\n",
       "      <td>55</td>\n",
       "      <td>4</td>\n",
       "    </tr>\n",
       "    <tr>\n",
       "      <th>2</th>\n",
       "      <td>10</td>\n",
       "      <td>2</td>\n",
       "      <td>46</td>\n",
       "      <td>0</td>\n",
       "      <td>3</td>\n",
       "      <td>6</td>\n",
       "      <td>55</td>\n",
       "      <td>4</td>\n",
       "    </tr>\n",
       "    <tr>\n",
       "      <th>3</th>\n",
       "      <td>10</td>\n",
       "      <td>2</td>\n",
       "      <td>51</td>\n",
       "      <td>0</td>\n",
       "      <td>2</td>\n",
       "      <td>5</td>\n",
       "      <td>58</td>\n",
       "      <td>4</td>\n",
       "    </tr>\n",
       "    <tr>\n",
       "      <th>4</th>\n",
       "      <td>10</td>\n",
       "      <td>2</td>\n",
       "      <td>57</td>\n",
       "      <td>6</td>\n",
       "      <td>15</td>\n",
       "      <td>16</td>\n",
       "      <td>94</td>\n",
       "      <td>4</td>\n",
       "    </tr>\n",
       "    <tr>\n",
       "      <th>...</th>\n",
       "      <td>...</td>\n",
       "      <td>...</td>\n",
       "      <td>...</td>\n",
       "      <td>...</td>\n",
       "      <td>...</td>\n",
       "      <td>...</td>\n",
       "      <td>...</td>\n",
       "      <td>...</td>\n",
       "    </tr>\n",
       "    <tr>\n",
       "      <th>2971</th>\n",
       "      <td>9</td>\n",
       "      <td>4</td>\n",
       "      <td>16</td>\n",
       "      <td>3</td>\n",
       "      <td>1</td>\n",
       "      <td>36</td>\n",
       "      <td>56</td>\n",
       "      <td>4</td>\n",
       "    </tr>\n",
       "    <tr>\n",
       "      <th>2972</th>\n",
       "      <td>9</td>\n",
       "      <td>4</td>\n",
       "      <td>11</td>\n",
       "      <td>0</td>\n",
       "      <td>1</td>\n",
       "      <td>30</td>\n",
       "      <td>42</td>\n",
       "      <td>4</td>\n",
       "    </tr>\n",
       "    <tr>\n",
       "      <th>2973</th>\n",
       "      <td>9</td>\n",
       "      <td>4</td>\n",
       "      <td>15</td>\n",
       "      <td>4</td>\n",
       "      <td>1</td>\n",
       "      <td>25</td>\n",
       "      <td>45</td>\n",
       "      <td>4</td>\n",
       "    </tr>\n",
       "    <tr>\n",
       "      <th>2974</th>\n",
       "      <td>9</td>\n",
       "      <td>4</td>\n",
       "      <td>16</td>\n",
       "      <td>5</td>\n",
       "      <td>0</td>\n",
       "      <td>27</td>\n",
       "      <td>48</td>\n",
       "      <td>4</td>\n",
       "    </tr>\n",
       "    <tr>\n",
       "      <th>2975</th>\n",
       "      <td>9</td>\n",
       "      <td>4</td>\n",
       "      <td>14</td>\n",
       "      <td>3</td>\n",
       "      <td>1</td>\n",
       "      <td>15</td>\n",
       "      <td>33</td>\n",
       "      <td>4</td>\n",
       "    </tr>\n",
       "  </tbody>\n",
       "</table>\n",
       "<p>2976 rows × 8 columns</p>\n",
       "</div>"
      ]
     },
     "execution_count": 19,
     "metadata": {},
     "output_type": "execute_result"
    }
   ],
   "execution_count": 19
  },
  {
   "metadata": {
    "ExecuteTime": {
     "end_time": "2024-12-20T14:16:36.775422Z",
     "start_time": "2024-12-20T14:16:36.771274Z"
    }
   },
   "cell_type": "code",
   "source": "X_train, X_test, y_train, y_test = train_test_split(X, y, test_size=0.2, random_state=42)",
   "id": "5365bae61c961000",
   "outputs": [],
   "execution_count": 20
  },
  {
   "metadata": {
    "ExecuteTime": {
     "end_time": "2024-12-20T14:16:36.868698Z",
     "start_time": "2024-12-20T14:16:36.865645Z"
    }
   },
   "cell_type": "code",
   "source": "print(dataset.dtypes)",
   "id": "8010093e990131ed",
   "outputs": [
    {
     "name": "stdout",
     "output_type": "stream",
     "text": [
      "Time                 object\n",
      "Date                  int64\n",
      "Day of the week       int64\n",
      "CarCount              int64\n",
      "BikeCount             int64\n",
      "BusCount              int64\n",
      "TruckCount            int64\n",
      "Total                 int64\n",
      "Traffic Situation     int64\n",
      "Kategori Waktu        int64\n",
      "dtype: object\n"
     ]
    }
   ],
   "execution_count": 21
  },
  {
   "metadata": {
    "ExecuteTime": {
     "end_time": "2024-12-20T14:16:36.915160Z",
     "start_time": "2024-12-20T14:16:36.912336Z"
    }
   },
   "cell_type": "code",
   "source": [
    "model = KNN()\n",
    "model.fit(X_train, y_train)"
   ],
   "id": "76fb6379880ebf1c",
   "outputs": [],
   "execution_count": 22
  },
  {
   "metadata": {
    "ExecuteTime": {
     "end_time": "2024-12-20T14:16:41.250059Z",
     "start_time": "2024-12-20T14:16:36.964782Z"
    }
   },
   "cell_type": "code",
   "source": [
    "# Lakukan prediksi pada data uji\n",
    "y_pred = model.predict(X_test)\n"
   ],
   "id": "163aaf36db9770c8",
   "outputs": [],
   "execution_count": 23
  },
  {
   "metadata": {
    "ExecuteTime": {
     "end_time": "2024-12-20T14:16:41.264172Z",
     "start_time": "2024-12-20T14:16:41.255862Z"
    }
   },
   "cell_type": "code",
   "source": [
    "# Evaluasi model\n",
    "print(\"Confusion Matrix:\")\n",
    "print(confusion_matrix(y_test, y_pred))\n",
    "\n",
    "print(\"Accuracy:\", accuracy_score(y_test, y_pred))\n",
    "\n",
    "print(\"Classification Report:\")\n",
    "print(classification_report(y_test, y_pred))"
   ],
   "id": "cbb29e918e38b229",
   "outputs": [
    {
     "name": "stdout",
     "output_type": "stream",
     "text": [
      "Confusion Matrix:\n",
      "[[ 57   9   0   0]\n",
      " [ 15 311   6   8]\n",
      " [  0   1 126   0]\n",
      " [  0   7   1  55]]\n",
      "Accuracy: 0.9211409395973155\n",
      "Classification Report:\n",
      "              precision    recall  f1-score   support\n",
      "\n",
      "           1       0.79      0.86      0.83        66\n",
      "           2       0.95      0.91      0.93       340\n",
      "           3       0.95      0.99      0.97       127\n",
      "           4       0.87      0.87      0.87        63\n",
      "\n",
      "    accuracy                           0.92       596\n",
      "   macro avg       0.89      0.91      0.90       596\n",
      "weighted avg       0.92      0.92      0.92       596\n",
      "\n"
     ]
    }
   ],
   "execution_count": 24
  },
  {
   "metadata": {
    "ExecuteTime": {
     "end_time": "2024-12-20T14:16:41.318187Z",
     "start_time": "2024-12-20T14:16:41.306308Z"
    }
   },
   "cell_type": "code",
   "source": [
    "new_input = pd.DataFrame({\n",
    "    'Date': [20],\n",
    "    'Day of the week': ['Monday'],\n",
    "    'CarCount': [1000],\n",
    "    'BikeCount': [10],\n",
    "    'BusCount': [10],\n",
    "    'TruckCount': [0],\n",
    "    'Total': [1020],\n",
    "    'Kategori Waktu': [24]\n",
    "})\n",
    "\n",
    "new_input['Kategori Waktu'] = new_input['Date'].apply(kategori_waktu)\n",
    "\n",
    "new_input = replace_day_with_number(new_input, ['Day of the week'])\n",
    "\n",
    "new_input = new_input[['Date', 'Day of the week', 'CarCount', 'BikeCount', 'BusCount', 'TruckCount', 'Total', 'Kategori Waktu']]\n",
    "\n",
    "prediction = model.predict(new_input)\n",
    "\n",
    "print(f'Predicted Traffic Situation: {convert_traffic_situation_to_answer(prediction[0])}')"
   ],
   "id": "9ee97021ce7d9174",
   "outputs": [
    {
     "name": "stdout",
     "output_type": "stream",
     "text": [
      "Predicted Traffic Situation: heavy\n"
     ]
    }
   ],
   "execution_count": 25
  },
  {
   "metadata": {
    "ExecuteTime": {
     "end_time": "2024-12-20T14:16:41.365362Z",
     "start_time": "2024-12-20T14:16:41.363165Z"
    }
   },
   "cell_type": "code",
   "source": "",
   "id": "dd622353703e3df9",
   "outputs": [],
   "execution_count": null
  }
 ],
 "metadata": {
  "kernelspec": {
   "display_name": "Python 3",
   "language": "python",
   "name": "python3"
  },
  "language_info": {
   "codemirror_mode": {
    "name": "ipython",
    "version": 2
   },
   "file_extension": ".py",
   "mimetype": "text/x-python",
   "name": "python",
   "nbconvert_exporter": "python",
   "pygments_lexer": "ipython2",
   "version": "2.7.6"
  }
 },
 "nbformat": 4,
 "nbformat_minor": 5
}
