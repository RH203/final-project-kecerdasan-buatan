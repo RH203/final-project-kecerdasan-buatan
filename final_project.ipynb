{
 "cells": [
  {
   "cell_type": "code",
   "id": "initial_id",
   "metadata": {
    "collapsed": true,
    "ExecuteTime": {
     "end_time": "2024-12-30T04:23:38.729032Z",
     "start_time": "2024-12-30T04:23:38.636073Z"
    }
   },
   "source": [
    "import pandas as pd\n",
    "from sklearn.metrics import accuracy_score, confusion_matrix, classification_report\n",
    "from sklearn.model_selection import train_test_split\n",
    "from knn import KNN\n",
    "from sklearn.model_selection import KFold\n",
    "import matplotlib.pyplot as plt\n",
    "import seaborn as sns\n",
    "import numpy as np\n",
    "from sklearn.preprocessing import StandardScaler\n",
    "from sklearn.decomposition import PCA"
   ],
   "outputs": [],
   "execution_count": 1
  },
  {
   "metadata": {
    "ExecuteTime": {
     "end_time": "2024-12-30T04:23:38.736432Z",
     "start_time": "2024-12-30T04:23:38.732393Z"
    }
   },
   "cell_type": "code",
   "source": [
    "def replace_day_with_number(df, cols):\n",
    "    \"\"\"\n",
    "    @param df: pandas DataFrame\n",
    "    @param cols: list of columns to encode\n",
    "    @return: DataFrame dengan hari diganti dengan angka 1-7\n",
    "    \"\"\"\n",
    "    # Pemetaan hari ke angka (Senin=1, Selasa=2, dst)\n",
    "    day_to_number = {\n",
    "        'Monday': 1,\n",
    "        'Tuesday': 2,\n",
    "        'Wednesday': 3,\n",
    "        'Thursday': 4,\n",
    "        'Friday': 5,\n",
    "        'Saturday': 6,\n",
    "        'Sunday': 7\n",
    "    }\n",
    "\n",
    "    for each in cols:\n",
    "        # Mengganti nilai hari dengan angka menggunakan pemetaan\n",
    "        df[each] = df[each].map(day_to_number)\n",
    "    return df\n",
    "\n",
    "def replace_traffic_situation(df, cols):\n",
    "    \"\"\"\n",
    "    @param df: pandas DataFrame\n",
    "    @param cols: list of columns to encode\n",
    "    @return: DataFrame dengan hari diganti dengan angka 1-7\n",
    "    \"\"\"\n",
    "    # Pemetaan hari ke angka (Senin=1, Selasa=2, dst)\n",
    "    situation_to_number = {\n",
    "        'low': 1,\n",
    "        'normal': 2,\n",
    "        'heavy': 3,\n",
    "        'high': 4,\n",
    "    }\n",
    "\n",
    "    for each in cols:\n",
    "        # Mengganti nilai hari dengan angka menggunakan pemetaan\n",
    "        df[each] = df[each].map(situation_to_number)\n",
    "    return df\n",
    "\n",
    "# Fungsi untuk mengkategorikan waktu\n",
    "def kategori_waktu(jam):\n",
    "    if 6 <= jam < 10:\n",
    "        return 0 # Pagi\n",
    "    elif 10 <= jam < 15:\n",
    "        return 1 # Siang\n",
    "    elif 15 <= jam < 18:\n",
    "        return 2 # Sore\n",
    "    elif 18 <= jam < 22:\n",
    "        return 3 # Malam\n",
    "    else:\n",
    "        return 4 # Malam Menjelang Pagi\n",
    "\n",
    "\n",
    "def convert_traffic_situation_to_answer(predictions):\n",
    "    \"\"\"\n",
    "    Mengonversi hasil prediksi angka (1, 2, 3, 4) menjadi jawaban kategori.\n",
    "\n",
    "    @param predictions: list atau array berisi angka hasil prediksi\n",
    "    @return: list atau array berisi jawaban kategori\n",
    "    \"\"\"\n",
    "    # Pemetaan angka ke jawaban kategori\n",
    "    number_to_answer = {\n",
    "        1: 'low',\n",
    "        2: 'normal',\n",
    "        3: 'heavy',\n",
    "        4: 'high'\n",
    "    }\n",
    "\n",
    "    for key, value in number_to_answer.items():\n",
    "        if key == predictions:\n",
    "            return value\n",
    "\n",
    "    return None\n"
   ],
   "id": "14257fbead9f34b1",
   "outputs": [],
   "execution_count": 2
  },
  {
   "metadata": {
    "ExecuteTime": {
     "end_time": "2024-12-30T04:23:38.792220Z",
     "start_time": "2024-12-30T04:23:38.779381Z"
    }
   },
   "cell_type": "code",
   "source": [
    "dataset = pd.read_csv(\"dataset/Traffic.csv\")\n",
    "dataset.dtypes"
   ],
   "id": "12240c55f0a6e7bb",
   "outputs": [
    {
     "data": {
      "text/plain": [
       "Time                 object\n",
       "Date                  int64\n",
       "Day of the week      object\n",
       "CarCount              int64\n",
       "BikeCount             int64\n",
       "BusCount              int64\n",
       "TruckCount            int64\n",
       "Total                 int64\n",
       "Traffic Situation    object\n",
       "dtype: object"
      ]
     },
     "execution_count": 3,
     "metadata": {},
     "output_type": "execute_result"
    }
   ],
   "execution_count": 3
  },
  {
   "metadata": {
    "ExecuteTime": {
     "end_time": "2024-12-30T04:23:38.847902Z",
     "start_time": "2024-12-30T04:23:38.837684Z"
    }
   },
   "cell_type": "code",
   "source": "dataset.isnull().sum()",
   "id": "896f05a06f3d32fb",
   "outputs": [
    {
     "data": {
      "text/plain": [
       "Time                 0\n",
       "Date                 0\n",
       "Day of the week      0\n",
       "CarCount             0\n",
       "BikeCount            0\n",
       "BusCount             0\n",
       "TruckCount           0\n",
       "Total                0\n",
       "Traffic Situation    0\n",
       "dtype: int64"
      ]
     },
     "execution_count": 4,
     "metadata": {},
     "output_type": "execute_result"
    }
   ],
   "execution_count": 4
  },
  {
   "metadata": {
    "ExecuteTime": {
     "end_time": "2024-12-30T04:23:38.893503Z",
     "start_time": "2024-12-30T04:23:38.890961Z"
    }
   },
   "cell_type": "code",
   "source": "dataset.columns",
   "id": "24ed10a9dd3310f1",
   "outputs": [
    {
     "data": {
      "text/plain": [
       "Index(['Time', 'Date', 'Day of the week', 'CarCount', 'BikeCount', 'BusCount',\n",
       "       'TruckCount', 'Total', 'Traffic Situation'],\n",
       "      dtype='object')"
      ]
     },
     "execution_count": 5,
     "metadata": {},
     "output_type": "execute_result"
    }
   ],
   "execution_count": 5
  },
  {
   "metadata": {
    "ExecuteTime": {
     "end_time": "2024-12-30T04:23:38.974836Z",
     "start_time": "2024-12-30T04:23:38.972023Z"
    }
   },
   "cell_type": "code",
   "source": "dataset['Date'].unique()",
   "id": "6a1427f312a9da76",
   "outputs": [
    {
     "data": {
      "text/plain": [
       "array([10, 11, 12, 13, 14, 15, 16, 17, 18, 19, 20, 21, 22, 23, 24, 25, 26,\n",
       "       27, 28, 29, 30, 31,  1,  2,  3,  4,  5,  6,  7,  8,  9])"
      ]
     },
     "execution_count": 6,
     "metadata": {},
     "output_type": "execute_result"
    }
   ],
   "execution_count": 6
  },
  {
   "metadata": {
    "ExecuteTime": {
     "end_time": "2024-12-30T04:23:39.048902Z",
     "start_time": "2024-12-30T04:23:39.045900Z"
    }
   },
   "cell_type": "code",
   "source": "dataset['Day of the week'].unique()",
   "id": "75c9e3a6d7b5d117",
   "outputs": [
    {
     "data": {
      "text/plain": [
       "array(['Tuesday', 'Wednesday', 'Thursday', 'Friday', 'Saturday', 'Sunday',\n",
       "       'Monday'], dtype=object)"
      ]
     },
     "execution_count": 7,
     "metadata": {},
     "output_type": "execute_result"
    }
   ],
   "execution_count": 7
  },
  {
   "metadata": {
    "ExecuteTime": {
     "end_time": "2024-12-30T04:23:39.102279Z",
     "start_time": "2024-12-30T04:23:39.099571Z"
    }
   },
   "cell_type": "code",
   "source": "dataset['Traffic Situation'].unique()",
   "id": "2a81fa561d140b89",
   "outputs": [
    {
     "data": {
      "text/plain": [
       "array(['low', 'normal', 'heavy', 'high'], dtype=object)"
      ]
     },
     "execution_count": 8,
     "metadata": {},
     "output_type": "execute_result"
    }
   ],
   "execution_count": 8
  },
  {
   "metadata": {
    "ExecuteTime": {
     "end_time": "2024-12-30T04:23:39.143173Z",
     "start_time": "2024-12-30T04:23:39.140358Z"
    }
   },
   "cell_type": "code",
   "source": "dataset['Time'].unique()",
   "id": "6f305a0fb0ffea3e",
   "outputs": [
    {
     "data": {
      "text/plain": [
       "array(['12:00:00 AM', '12:15:00 AM', '12:30:00 AM', '12:45:00 AM',\n",
       "       '1:00:00 AM', '1:15:00 AM', '1:30:00 AM', '1:45:00 AM',\n",
       "       '2:00:00 AM', '2:15:00 AM', '2:30:00 AM', '2:45:00 AM',\n",
       "       '3:00:00 AM', '3:15:00 AM', '3:30:00 AM', '3:45:00 AM',\n",
       "       '4:00:00 AM', '4:15:00 AM', '4:30:00 AM', '4:45:00 AM',\n",
       "       '5:00:00 AM', '5:15:00 AM', '5:30:00 AM', '5:45:00 AM',\n",
       "       '6:00:00 AM', '6:15:00 AM', '6:30:00 AM', '6:45:00 AM',\n",
       "       '7:00:00 AM', '7:15:00 AM', '7:30:00 AM', '7:45:00 AM',\n",
       "       '8:00:00 AM', '8:15:00 AM', '8:30:00 AM', '8:45:00 AM',\n",
       "       '9:00:00 AM', '9:15:00 AM', '9:30:00 AM', '9:45:00 AM',\n",
       "       '10:00:00 AM', '10:15:00 AM', '10:30:00 AM', '10:45:00 AM',\n",
       "       '11:00:00 AM', '11:15:00 AM', '11:30:00 AM', '11:45:00 AM',\n",
       "       '12:00:00 PM', '12:15:00 PM', '12:30:00 PM', '12:45:00 PM',\n",
       "       '1:00:00 PM', '1:15:00 PM', '1:30:00 PM', '1:45:00 PM',\n",
       "       '2:00:00 PM', '2:15:00 PM', '2:30:00 PM', '2:45:00 PM',\n",
       "       '3:00:00 PM', '3:15:00 PM', '3:30:00 PM', '3:45:00 PM',\n",
       "       '4:00:00 PM', '4:15:00 PM', '4:30:00 PM', '4:45:00 PM',\n",
       "       '5:00:00 PM', '5:15:00 PM', '5:30:00 PM', '5:45:00 PM',\n",
       "       '6:00:00 PM', '6:15:00 PM', '6:30:00 PM', '6:45:00 PM',\n",
       "       '7:00:00 PM', '7:15:00 PM', '7:30:00 PM', '7:45:00 PM',\n",
       "       '8:00:00 PM', '8:15:00 PM', '8:30:00 PM', '8:45:00 PM',\n",
       "       '9:00:00 PM', '9:15:00 PM', '9:30:00 PM', '9:45:00 PM',\n",
       "       '10:00:00 PM', '10:15:00 PM', '10:30:00 PM', '10:45:00 PM',\n",
       "       '11:00:00 PM', '11:15:00 PM', '11:30:00 PM', '11:45:00 PM'],\n",
       "      dtype=object)"
      ]
     },
     "execution_count": 9,
     "metadata": {},
     "output_type": "execute_result"
    }
   ],
   "execution_count": 9
  },
  {
   "metadata": {
    "ExecuteTime": {
     "end_time": "2024-12-30T04:23:39.200596Z",
     "start_time": "2024-12-30T04:23:39.193596Z"
    }
   },
   "cell_type": "code",
   "source": [
    "# Data waktu dalam format AM/PM\n",
    "waktu = ['12:00:00 AM', '12:15:00 AM', '12:30:00 AM', '12:45:00 AM',\n",
    "         '1:00:00 AM', '1:15:00 AM', '1:30:00 AM', '1:45:00 AM',\n",
    "         '2:00:00 AM', '2:15:00 AM', '2:30:00 AM', '2:45:00 AM',\n",
    "         '3:00:00 AM', '3:15:00 AM', '3:30:00 AM', '3:45:00 AM',\n",
    "         '4:00:00 AM', '4:15:00 AM', '4:30:00 AM', '4:45:00 AM',\n",
    "         '5:00:00 AM', '5:15:00 AM', '5:30:00 AM', '5:45:00 AM',\n",
    "         '6:00:00 AM', '6:15:00 AM', '6:30:00 AM', '6:45:00 AM',\n",
    "         '7:00:00 AM', '7:15:00 AM', '7:30:00 AM', '7:45:00 AM',\n",
    "         '8:00:00 AM', '8:15:00 AM', '8:30:00 AM', '8:45:00 AM',\n",
    "         '9:00:00 AM', '9:15:00 AM', '9:30:00 AM', '9:45:00 AM',\n",
    "         '10:00:00 AM', '10:15:00 AM', '10:30:00 AM', '10:45:00 AM',\n",
    "         '11:00:00 AM', '11:15:00 AM', '11:30:00 AM', '11:45:00 AM',\n",
    "         '12:00:00 PM', '12:15:00 PM', '12:30:00 PM', '12:45:00 PM',\n",
    "         '1:00:00 PM', '1:15:00 PM', '1:30:00 PM', '1:45:00 PM',\n",
    "         '2:00:00 PM', '2:15:00 PM', '2:30:00 PM', '2:45:00 PM',\n",
    "         '3:00:00 PM', '3:15:00 PM', '3:30:00 PM', '3:45:00 PM',\n",
    "         '4:00:00 PM', '4:15:00 PM', '4:30:00 PM', '4:45:00 PM',\n",
    "         '5:00:00 PM', '5:15:00 PM', '5:30:00 PM', '5:45:00 PM',\n",
    "         '6:00:00 PM', '6:15:00 PM', '6:30:00 PM', '6:45:00 PM',\n",
    "         '7:00:00 PM', '7:15:00 PM', '7:30:00 PM', '7:45:00 PM',\n",
    "         '8:00:00 PM', '8:15:00 PM', '8:30:00 PM', '8:45:00 PM',\n",
    "         '9:00:00 PM', '9:15:00 PM', '9:30:00 PM', '9:45:00 PM',\n",
    "         '10:00:00 PM', '10:15:00 PM', '10:30:00 PM', '10:45:00 PM',\n",
    "         '11:00:00 PM', '11:15:00 PM', '11:30:00 PM', '11:45:00 PM']\n",
    "\n",
    "\n",
    "# Konversi kolom 'Time' menjadi datetime (tanpa mengubah DataFrame asli)\n",
    "dataset['Waktu'] = pd.to_datetime(dataset['Time'], format='%I:%M:%S %p')\n",
    "\n",
    "\n",
    "# Tambahkan kolom 'Kategori Waktu' tanpa mengubah kolom lain\n",
    "dataset['Kategori Waktu'] = dataset['Waktu'].dt.hour.apply(kategori_waktu)\n",
    "\n",
    "# Hapus kolom 'Waktu' jika tidak diperlukan\n",
    "dataset.drop('Waktu', axis=1, inplace=True)\n",
    "\n"
   ],
   "id": "faefe9472b813822",
   "outputs": [],
   "execution_count": 10
  },
  {
   "metadata": {
    "ExecuteTime": {
     "end_time": "2024-12-30T04:23:39.243679Z",
     "start_time": "2024-12-30T04:23:39.237072Z"
    }
   },
   "cell_type": "code",
   "source": "dataset.head()",
   "id": "7576d2caa6a736c2",
   "outputs": [
    {
     "data": {
      "text/plain": [
       "          Time  Date Day of the week  CarCount  BikeCount  BusCount  \\\n",
       "0  12:00:00 AM    10         Tuesday        31          0         4   \n",
       "1  12:15:00 AM    10         Tuesday        49          0         3   \n",
       "2  12:30:00 AM    10         Tuesday        46          0         3   \n",
       "3  12:45:00 AM    10         Tuesday        51          0         2   \n",
       "4   1:00:00 AM    10         Tuesday        57          6        15   \n",
       "\n",
       "   TruckCount  Total Traffic Situation  Kategori Waktu  \n",
       "0           4     39               low               4  \n",
       "1           3     55               low               4  \n",
       "2           6     55               low               4  \n",
       "3           5     58               low               4  \n",
       "4          16     94            normal               4  "
      ],
      "text/html": [
       "<div>\n",
       "<style scoped>\n",
       "    .dataframe tbody tr th:only-of-type {\n",
       "        vertical-align: middle;\n",
       "    }\n",
       "\n",
       "    .dataframe tbody tr th {\n",
       "        vertical-align: top;\n",
       "    }\n",
       "\n",
       "    .dataframe thead th {\n",
       "        text-align: right;\n",
       "    }\n",
       "</style>\n",
       "<table border=\"1\" class=\"dataframe\">\n",
       "  <thead>\n",
       "    <tr style=\"text-align: right;\">\n",
       "      <th></th>\n",
       "      <th>Time</th>\n",
       "      <th>Date</th>\n",
       "      <th>Day of the week</th>\n",
       "      <th>CarCount</th>\n",
       "      <th>BikeCount</th>\n",
       "      <th>BusCount</th>\n",
       "      <th>TruckCount</th>\n",
       "      <th>Total</th>\n",
       "      <th>Traffic Situation</th>\n",
       "      <th>Kategori Waktu</th>\n",
       "    </tr>\n",
       "  </thead>\n",
       "  <tbody>\n",
       "    <tr>\n",
       "      <th>0</th>\n",
       "      <td>12:00:00 AM</td>\n",
       "      <td>10</td>\n",
       "      <td>Tuesday</td>\n",
       "      <td>31</td>\n",
       "      <td>0</td>\n",
       "      <td>4</td>\n",
       "      <td>4</td>\n",
       "      <td>39</td>\n",
       "      <td>low</td>\n",
       "      <td>4</td>\n",
       "    </tr>\n",
       "    <tr>\n",
       "      <th>1</th>\n",
       "      <td>12:15:00 AM</td>\n",
       "      <td>10</td>\n",
       "      <td>Tuesday</td>\n",
       "      <td>49</td>\n",
       "      <td>0</td>\n",
       "      <td>3</td>\n",
       "      <td>3</td>\n",
       "      <td>55</td>\n",
       "      <td>low</td>\n",
       "      <td>4</td>\n",
       "    </tr>\n",
       "    <tr>\n",
       "      <th>2</th>\n",
       "      <td>12:30:00 AM</td>\n",
       "      <td>10</td>\n",
       "      <td>Tuesday</td>\n",
       "      <td>46</td>\n",
       "      <td>0</td>\n",
       "      <td>3</td>\n",
       "      <td>6</td>\n",
       "      <td>55</td>\n",
       "      <td>low</td>\n",
       "      <td>4</td>\n",
       "    </tr>\n",
       "    <tr>\n",
       "      <th>3</th>\n",
       "      <td>12:45:00 AM</td>\n",
       "      <td>10</td>\n",
       "      <td>Tuesday</td>\n",
       "      <td>51</td>\n",
       "      <td>0</td>\n",
       "      <td>2</td>\n",
       "      <td>5</td>\n",
       "      <td>58</td>\n",
       "      <td>low</td>\n",
       "      <td>4</td>\n",
       "    </tr>\n",
       "    <tr>\n",
       "      <th>4</th>\n",
       "      <td>1:00:00 AM</td>\n",
       "      <td>10</td>\n",
       "      <td>Tuesday</td>\n",
       "      <td>57</td>\n",
       "      <td>6</td>\n",
       "      <td>15</td>\n",
       "      <td>16</td>\n",
       "      <td>94</td>\n",
       "      <td>normal</td>\n",
       "      <td>4</td>\n",
       "    </tr>\n",
       "  </tbody>\n",
       "</table>\n",
       "</div>"
      ]
     },
     "execution_count": 11,
     "metadata": {},
     "output_type": "execute_result"
    }
   ],
   "execution_count": 11
  },
  {
   "metadata": {
    "ExecuteTime": {
     "end_time": "2024-12-30T04:23:39.314033Z",
     "start_time": "2024-12-30T04:23:39.311394Z"
    }
   },
   "cell_type": "code",
   "source": "dataset['Kategori Waktu'].value_counts()",
   "id": "f12c1f1b0f72c8cc",
   "outputs": [
    {
     "data": {
      "text/plain": [
       "Kategori Waktu\n",
       "4    992\n",
       "1    620\n",
       "0    496\n",
       "3    496\n",
       "2    372\n",
       "Name: count, dtype: int64"
      ]
     },
     "execution_count": 12,
     "metadata": {},
     "output_type": "execute_result"
    }
   ],
   "execution_count": 12
  },
  {
   "metadata": {
    "ExecuteTime": {
     "end_time": "2024-12-30T04:23:39.373331Z",
     "start_time": "2024-12-30T04:23:39.365694Z"
    }
   },
   "cell_type": "code",
   "source": "dataset.head()",
   "id": "bb93aa66cad96843",
   "outputs": [
    {
     "data": {
      "text/plain": [
       "          Time  Date Day of the week  CarCount  BikeCount  BusCount  \\\n",
       "0  12:00:00 AM    10         Tuesday        31          0         4   \n",
       "1  12:15:00 AM    10         Tuesday        49          0         3   \n",
       "2  12:30:00 AM    10         Tuesday        46          0         3   \n",
       "3  12:45:00 AM    10         Tuesday        51          0         2   \n",
       "4   1:00:00 AM    10         Tuesday        57          6        15   \n",
       "\n",
       "   TruckCount  Total Traffic Situation  Kategori Waktu  \n",
       "0           4     39               low               4  \n",
       "1           3     55               low               4  \n",
       "2           6     55               low               4  \n",
       "3           5     58               low               4  \n",
       "4          16     94            normal               4  "
      ],
      "text/html": [
       "<div>\n",
       "<style scoped>\n",
       "    .dataframe tbody tr th:only-of-type {\n",
       "        vertical-align: middle;\n",
       "    }\n",
       "\n",
       "    .dataframe tbody tr th {\n",
       "        vertical-align: top;\n",
       "    }\n",
       "\n",
       "    .dataframe thead th {\n",
       "        text-align: right;\n",
       "    }\n",
       "</style>\n",
       "<table border=\"1\" class=\"dataframe\">\n",
       "  <thead>\n",
       "    <tr style=\"text-align: right;\">\n",
       "      <th></th>\n",
       "      <th>Time</th>\n",
       "      <th>Date</th>\n",
       "      <th>Day of the week</th>\n",
       "      <th>CarCount</th>\n",
       "      <th>BikeCount</th>\n",
       "      <th>BusCount</th>\n",
       "      <th>TruckCount</th>\n",
       "      <th>Total</th>\n",
       "      <th>Traffic Situation</th>\n",
       "      <th>Kategori Waktu</th>\n",
       "    </tr>\n",
       "  </thead>\n",
       "  <tbody>\n",
       "    <tr>\n",
       "      <th>0</th>\n",
       "      <td>12:00:00 AM</td>\n",
       "      <td>10</td>\n",
       "      <td>Tuesday</td>\n",
       "      <td>31</td>\n",
       "      <td>0</td>\n",
       "      <td>4</td>\n",
       "      <td>4</td>\n",
       "      <td>39</td>\n",
       "      <td>low</td>\n",
       "      <td>4</td>\n",
       "    </tr>\n",
       "    <tr>\n",
       "      <th>1</th>\n",
       "      <td>12:15:00 AM</td>\n",
       "      <td>10</td>\n",
       "      <td>Tuesday</td>\n",
       "      <td>49</td>\n",
       "      <td>0</td>\n",
       "      <td>3</td>\n",
       "      <td>3</td>\n",
       "      <td>55</td>\n",
       "      <td>low</td>\n",
       "      <td>4</td>\n",
       "    </tr>\n",
       "    <tr>\n",
       "      <th>2</th>\n",
       "      <td>12:30:00 AM</td>\n",
       "      <td>10</td>\n",
       "      <td>Tuesday</td>\n",
       "      <td>46</td>\n",
       "      <td>0</td>\n",
       "      <td>3</td>\n",
       "      <td>6</td>\n",
       "      <td>55</td>\n",
       "      <td>low</td>\n",
       "      <td>4</td>\n",
       "    </tr>\n",
       "    <tr>\n",
       "      <th>3</th>\n",
       "      <td>12:45:00 AM</td>\n",
       "      <td>10</td>\n",
       "      <td>Tuesday</td>\n",
       "      <td>51</td>\n",
       "      <td>0</td>\n",
       "      <td>2</td>\n",
       "      <td>5</td>\n",
       "      <td>58</td>\n",
       "      <td>low</td>\n",
       "      <td>4</td>\n",
       "    </tr>\n",
       "    <tr>\n",
       "      <th>4</th>\n",
       "      <td>1:00:00 AM</td>\n",
       "      <td>10</td>\n",
       "      <td>Tuesday</td>\n",
       "      <td>57</td>\n",
       "      <td>6</td>\n",
       "      <td>15</td>\n",
       "      <td>16</td>\n",
       "      <td>94</td>\n",
       "      <td>normal</td>\n",
       "      <td>4</td>\n",
       "    </tr>\n",
       "  </tbody>\n",
       "</table>\n",
       "</div>"
      ]
     },
     "execution_count": 13,
     "metadata": {},
     "output_type": "execute_result"
    }
   ],
   "execution_count": 13
  },
  {
   "metadata": {
    "ExecuteTime": {
     "end_time": "2024-12-30T04:23:39.438695Z",
     "start_time": "2024-12-30T04:23:39.432557Z"
    }
   },
   "cell_type": "code",
   "source": [
    "dataset = replace_day_with_number(dataset, ['Day of the week'])\n",
    "dataset = replace_traffic_situation(dataset, ['Traffic Situation'])\n",
    "dataset.head()"
   ],
   "id": "a09bf03bf6b362ce",
   "outputs": [
    {
     "data": {
      "text/plain": [
       "          Time  Date  Day of the week  CarCount  BikeCount  BusCount  \\\n",
       "0  12:00:00 AM    10                2        31          0         4   \n",
       "1  12:15:00 AM    10                2        49          0         3   \n",
       "2  12:30:00 AM    10                2        46          0         3   \n",
       "3  12:45:00 AM    10                2        51          0         2   \n",
       "4   1:00:00 AM    10                2        57          6        15   \n",
       "\n",
       "   TruckCount  Total  Traffic Situation  Kategori Waktu  \n",
       "0           4     39                  1               4  \n",
       "1           3     55                  1               4  \n",
       "2           6     55                  1               4  \n",
       "3           5     58                  1               4  \n",
       "4          16     94                  2               4  "
      ],
      "text/html": [
       "<div>\n",
       "<style scoped>\n",
       "    .dataframe tbody tr th:only-of-type {\n",
       "        vertical-align: middle;\n",
       "    }\n",
       "\n",
       "    .dataframe tbody tr th {\n",
       "        vertical-align: top;\n",
       "    }\n",
       "\n",
       "    .dataframe thead th {\n",
       "        text-align: right;\n",
       "    }\n",
       "</style>\n",
       "<table border=\"1\" class=\"dataframe\">\n",
       "  <thead>\n",
       "    <tr style=\"text-align: right;\">\n",
       "      <th></th>\n",
       "      <th>Time</th>\n",
       "      <th>Date</th>\n",
       "      <th>Day of the week</th>\n",
       "      <th>CarCount</th>\n",
       "      <th>BikeCount</th>\n",
       "      <th>BusCount</th>\n",
       "      <th>TruckCount</th>\n",
       "      <th>Total</th>\n",
       "      <th>Traffic Situation</th>\n",
       "      <th>Kategori Waktu</th>\n",
       "    </tr>\n",
       "  </thead>\n",
       "  <tbody>\n",
       "    <tr>\n",
       "      <th>0</th>\n",
       "      <td>12:00:00 AM</td>\n",
       "      <td>10</td>\n",
       "      <td>2</td>\n",
       "      <td>31</td>\n",
       "      <td>0</td>\n",
       "      <td>4</td>\n",
       "      <td>4</td>\n",
       "      <td>39</td>\n",
       "      <td>1</td>\n",
       "      <td>4</td>\n",
       "    </tr>\n",
       "    <tr>\n",
       "      <th>1</th>\n",
       "      <td>12:15:00 AM</td>\n",
       "      <td>10</td>\n",
       "      <td>2</td>\n",
       "      <td>49</td>\n",
       "      <td>0</td>\n",
       "      <td>3</td>\n",
       "      <td>3</td>\n",
       "      <td>55</td>\n",
       "      <td>1</td>\n",
       "      <td>4</td>\n",
       "    </tr>\n",
       "    <tr>\n",
       "      <th>2</th>\n",
       "      <td>12:30:00 AM</td>\n",
       "      <td>10</td>\n",
       "      <td>2</td>\n",
       "      <td>46</td>\n",
       "      <td>0</td>\n",
       "      <td>3</td>\n",
       "      <td>6</td>\n",
       "      <td>55</td>\n",
       "      <td>1</td>\n",
       "      <td>4</td>\n",
       "    </tr>\n",
       "    <tr>\n",
       "      <th>3</th>\n",
       "      <td>12:45:00 AM</td>\n",
       "      <td>10</td>\n",
       "      <td>2</td>\n",
       "      <td>51</td>\n",
       "      <td>0</td>\n",
       "      <td>2</td>\n",
       "      <td>5</td>\n",
       "      <td>58</td>\n",
       "      <td>1</td>\n",
       "      <td>4</td>\n",
       "    </tr>\n",
       "    <tr>\n",
       "      <th>4</th>\n",
       "      <td>1:00:00 AM</td>\n",
       "      <td>10</td>\n",
       "      <td>2</td>\n",
       "      <td>57</td>\n",
       "      <td>6</td>\n",
       "      <td>15</td>\n",
       "      <td>16</td>\n",
       "      <td>94</td>\n",
       "      <td>2</td>\n",
       "      <td>4</td>\n",
       "    </tr>\n",
       "  </tbody>\n",
       "</table>\n",
       "</div>"
      ]
     },
     "execution_count": 14,
     "metadata": {},
     "output_type": "execute_result"
    }
   ],
   "execution_count": 14
  },
  {
   "metadata": {
    "ExecuteTime": {
     "end_time": "2024-12-30T04:23:39.573834Z",
     "start_time": "2024-12-30T04:23:39.571229Z"
    }
   },
   "cell_type": "code",
   "source": "print(dataset.dtypes)",
   "id": "c8b34be4a4ad721d",
   "outputs": [
    {
     "name": "stdout",
     "output_type": "stream",
     "text": [
      "Time                 object\n",
      "Date                  int64\n",
      "Day of the week       int64\n",
      "CarCount              int64\n",
      "BikeCount             int64\n",
      "BusCount              int64\n",
      "TruckCount            int64\n",
      "Total                 int64\n",
      "Traffic Situation     int64\n",
      "Kategori Waktu        int64\n",
      "dtype: object\n"
     ]
    }
   ],
   "execution_count": 15
  },
  {
   "metadata": {
    "ExecuteTime": {
     "end_time": "2024-12-30T04:23:39.589662Z",
     "start_time": "2024-12-30T04:23:39.586500Z"
    }
   },
   "cell_type": "code",
   "source": [
    "dataset.dtypes\n",
    "# dataset = dataset.drop(columns=['Time'])\n"
   ],
   "id": "5235fb805b93689b",
   "outputs": [
    {
     "data": {
      "text/plain": [
       "Time                 object\n",
       "Date                  int64\n",
       "Day of the week       int64\n",
       "CarCount              int64\n",
       "BikeCount             int64\n",
       "BusCount              int64\n",
       "TruckCount            int64\n",
       "Total                 int64\n",
       "Traffic Situation     int64\n",
       "Kategori Waktu        int64\n",
       "dtype: object"
      ]
     },
     "execution_count": 16,
     "metadata": {},
     "output_type": "execute_result"
    }
   ],
   "execution_count": 16
  },
  {
   "metadata": {
    "ExecuteTime": {
     "end_time": "2024-12-30T04:23:39.690574Z",
     "start_time": "2024-12-30T04:23:39.680552Z"
    }
   },
   "cell_type": "code",
   "source": [
    "print(dataset.map(type).nunique())\n",
    "dataset.to_csv('dataset.csv', index=False)"
   ],
   "id": "665416cdb3583ee7",
   "outputs": [
    {
     "name": "stdout",
     "output_type": "stream",
     "text": [
      "Time                 1\n",
      "Date                 1\n",
      "Day of the week      1\n",
      "CarCount             1\n",
      "BikeCount            1\n",
      "BusCount             1\n",
      "TruckCount           1\n",
      "Total                1\n",
      "Traffic Situation    1\n",
      "Kategori Waktu       1\n",
      "dtype: int64\n"
     ]
    }
   ],
   "execution_count": 17
  },
  {
   "metadata": {},
   "cell_type": "markdown",
   "source": "# Training",
   "id": "2f9c6de662c6fa24"
  },
  {
   "metadata": {
    "ExecuteTime": {
     "end_time": "2024-12-30T04:23:39.779603Z",
     "start_time": "2024-12-30T04:23:39.776871Z"
    }
   },
   "cell_type": "code",
   "source": [
    "X = dataset[['Date', 'Day of the week', 'CarCount', 'BikeCount', 'BusCount', 'TruckCount', 'Total', 'Kategori Waktu']]\n",
    "# X = dataset['Date', 'Day of the week']\n",
    "y = dataset['Traffic Situation']"
   ],
   "id": "b6a467eaf1cb7933",
   "outputs": [],
   "execution_count": 18
  },
  {
   "metadata": {
    "ExecuteTime": {
     "end_time": "2024-12-30T04:23:39.856550Z",
     "start_time": "2024-12-30T04:23:39.849961Z"
    }
   },
   "cell_type": "code",
   "source": "X",
   "id": "cf155ab4e92b0290",
   "outputs": [
    {
     "data": {
      "text/plain": [
       "      Date  Day of the week  CarCount  BikeCount  BusCount  TruckCount  Total  \\\n",
       "0       10                2        31          0         4           4     39   \n",
       "1       10                2        49          0         3           3     55   \n",
       "2       10                2        46          0         3           6     55   \n",
       "3       10                2        51          0         2           5     58   \n",
       "4       10                2        57          6        15          16     94   \n",
       "...    ...              ...       ...        ...       ...         ...    ...   \n",
       "2971     9                4        16          3         1          36     56   \n",
       "2972     9                4        11          0         1          30     42   \n",
       "2973     9                4        15          4         1          25     45   \n",
       "2974     9                4        16          5         0          27     48   \n",
       "2975     9                4        14          3         1          15     33   \n",
       "\n",
       "      Kategori Waktu  \n",
       "0                  4  \n",
       "1                  4  \n",
       "2                  4  \n",
       "3                  4  \n",
       "4                  4  \n",
       "...              ...  \n",
       "2971               4  \n",
       "2972               4  \n",
       "2973               4  \n",
       "2974               4  \n",
       "2975               4  \n",
       "\n",
       "[2976 rows x 8 columns]"
      ],
      "text/html": [
       "<div>\n",
       "<style scoped>\n",
       "    .dataframe tbody tr th:only-of-type {\n",
       "        vertical-align: middle;\n",
       "    }\n",
       "\n",
       "    .dataframe tbody tr th {\n",
       "        vertical-align: top;\n",
       "    }\n",
       "\n",
       "    .dataframe thead th {\n",
       "        text-align: right;\n",
       "    }\n",
       "</style>\n",
       "<table border=\"1\" class=\"dataframe\">\n",
       "  <thead>\n",
       "    <tr style=\"text-align: right;\">\n",
       "      <th></th>\n",
       "      <th>Date</th>\n",
       "      <th>Day of the week</th>\n",
       "      <th>CarCount</th>\n",
       "      <th>BikeCount</th>\n",
       "      <th>BusCount</th>\n",
       "      <th>TruckCount</th>\n",
       "      <th>Total</th>\n",
       "      <th>Kategori Waktu</th>\n",
       "    </tr>\n",
       "  </thead>\n",
       "  <tbody>\n",
       "    <tr>\n",
       "      <th>0</th>\n",
       "      <td>10</td>\n",
       "      <td>2</td>\n",
       "      <td>31</td>\n",
       "      <td>0</td>\n",
       "      <td>4</td>\n",
       "      <td>4</td>\n",
       "      <td>39</td>\n",
       "      <td>4</td>\n",
       "    </tr>\n",
       "    <tr>\n",
       "      <th>1</th>\n",
       "      <td>10</td>\n",
       "      <td>2</td>\n",
       "      <td>49</td>\n",
       "      <td>0</td>\n",
       "      <td>3</td>\n",
       "      <td>3</td>\n",
       "      <td>55</td>\n",
       "      <td>4</td>\n",
       "    </tr>\n",
       "    <tr>\n",
       "      <th>2</th>\n",
       "      <td>10</td>\n",
       "      <td>2</td>\n",
       "      <td>46</td>\n",
       "      <td>0</td>\n",
       "      <td>3</td>\n",
       "      <td>6</td>\n",
       "      <td>55</td>\n",
       "      <td>4</td>\n",
       "    </tr>\n",
       "    <tr>\n",
       "      <th>3</th>\n",
       "      <td>10</td>\n",
       "      <td>2</td>\n",
       "      <td>51</td>\n",
       "      <td>0</td>\n",
       "      <td>2</td>\n",
       "      <td>5</td>\n",
       "      <td>58</td>\n",
       "      <td>4</td>\n",
       "    </tr>\n",
       "    <tr>\n",
       "      <th>4</th>\n",
       "      <td>10</td>\n",
       "      <td>2</td>\n",
       "      <td>57</td>\n",
       "      <td>6</td>\n",
       "      <td>15</td>\n",
       "      <td>16</td>\n",
       "      <td>94</td>\n",
       "      <td>4</td>\n",
       "    </tr>\n",
       "    <tr>\n",
       "      <th>...</th>\n",
       "      <td>...</td>\n",
       "      <td>...</td>\n",
       "      <td>...</td>\n",
       "      <td>...</td>\n",
       "      <td>...</td>\n",
       "      <td>...</td>\n",
       "      <td>...</td>\n",
       "      <td>...</td>\n",
       "    </tr>\n",
       "    <tr>\n",
       "      <th>2971</th>\n",
       "      <td>9</td>\n",
       "      <td>4</td>\n",
       "      <td>16</td>\n",
       "      <td>3</td>\n",
       "      <td>1</td>\n",
       "      <td>36</td>\n",
       "      <td>56</td>\n",
       "      <td>4</td>\n",
       "    </tr>\n",
       "    <tr>\n",
       "      <th>2972</th>\n",
       "      <td>9</td>\n",
       "      <td>4</td>\n",
       "      <td>11</td>\n",
       "      <td>0</td>\n",
       "      <td>1</td>\n",
       "      <td>30</td>\n",
       "      <td>42</td>\n",
       "      <td>4</td>\n",
       "    </tr>\n",
       "    <tr>\n",
       "      <th>2973</th>\n",
       "      <td>9</td>\n",
       "      <td>4</td>\n",
       "      <td>15</td>\n",
       "      <td>4</td>\n",
       "      <td>1</td>\n",
       "      <td>25</td>\n",
       "      <td>45</td>\n",
       "      <td>4</td>\n",
       "    </tr>\n",
       "    <tr>\n",
       "      <th>2974</th>\n",
       "      <td>9</td>\n",
       "      <td>4</td>\n",
       "      <td>16</td>\n",
       "      <td>5</td>\n",
       "      <td>0</td>\n",
       "      <td>27</td>\n",
       "      <td>48</td>\n",
       "      <td>4</td>\n",
       "    </tr>\n",
       "    <tr>\n",
       "      <th>2975</th>\n",
       "      <td>9</td>\n",
       "      <td>4</td>\n",
       "      <td>14</td>\n",
       "      <td>3</td>\n",
       "      <td>1</td>\n",
       "      <td>15</td>\n",
       "      <td>33</td>\n",
       "      <td>4</td>\n",
       "    </tr>\n",
       "  </tbody>\n",
       "</table>\n",
       "<p>2976 rows × 8 columns</p>\n",
       "</div>"
      ]
     },
     "execution_count": 20,
     "metadata": {},
     "output_type": "execute_result"
    }
   ],
   "execution_count": 20
  },
  {
   "metadata": {
    "ExecuteTime": {
     "end_time": "2024-12-30T04:23:39.921390Z",
     "start_time": "2024-12-30T04:23:39.918341Z"
    }
   },
   "cell_type": "code",
   "source": "X_train, X_test, y_train, y_test = train_test_split(X, y, test_size=0.2, random_state=42)",
   "id": "5365bae61c961000",
   "outputs": [],
   "execution_count": 21
  },
  {
   "metadata": {
    "ExecuteTime": {
     "end_time": "2024-12-30T04:23:39.973039Z",
     "start_time": "2024-12-30T04:23:39.967616Z"
    }
   },
   "cell_type": "code",
   "source": "print(dataset.dtypes)",
   "id": "8010093e990131ed",
   "outputs": [
    {
     "name": "stdout",
     "output_type": "stream",
     "text": [
      "Time                 object\n",
      "Date                  int64\n",
      "Day of the week       int64\n",
      "CarCount              int64\n",
      "BikeCount             int64\n",
      "BusCount              int64\n",
      "TruckCount            int64\n",
      "Total                 int64\n",
      "Traffic Situation     int64\n",
      "Kategori Waktu        int64\n",
      "dtype: object\n"
     ]
    }
   ],
   "execution_count": 22
  },
  {
   "metadata": {
    "ExecuteTime": {
     "end_time": "2024-12-30T04:23:40.114048Z",
     "start_time": "2024-12-30T04:23:40.111496Z"
    }
   },
   "cell_type": "code",
   "source": "model = KNN()",
   "id": "76fb6379880ebf1c",
   "outputs": [],
   "execution_count": 23
  },
  {
   "metadata": {
    "ExecuteTime": {
     "end_time": "2024-12-30T04:23:40.158867Z",
     "start_time": "2024-12-30T04:23:40.155761Z"
    }
   },
   "cell_type": "code",
   "source": "kf = KFold(n_splits=5, shuffle=True, random_state=42)",
   "id": "e8dfb4516c4c7612",
   "outputs": [],
   "execution_count": 24
  },
  {
   "metadata": {
    "ExecuteTime": {
     "end_time": "2024-12-30T04:23:44.306845Z",
     "start_time": "2024-12-30T04:23:40.201060Z"
    }
   },
   "cell_type": "code",
   "source": [
    "model.fit(X_train, y_train)\n",
    "y_pred = model.predict(X_test)"
   ],
   "id": "86ab174f4ec051c7",
   "outputs": [],
   "execution_count": 25
  },
  {
   "metadata": {
    "ExecuteTime": {
     "end_time": "2024-12-30T04:23:44.324159Z",
     "start_time": "2024-12-30T04:23:44.316919Z"
    }
   },
   "cell_type": "code",
   "source": [
    "print(\"Accuracy:\", accuracy_score(y_test, y_pred))\n",
    "print(\"Classification Report:\\n\", classification_report(y_test, y_pred))\n",
    "print(\"Confusion Matrix:\\n\", confusion_matrix(y_test, y_pred))\n"
   ],
   "id": "46d83ae5b4b1dbca",
   "outputs": [
    {
     "name": "stdout",
     "output_type": "stream",
     "text": [
      "Accuracy: 0.9312080536912751\n",
      "Classification Report:\n",
      "               precision    recall  f1-score   support\n",
      "\n",
      "           1       0.82      0.82      0.82        66\n",
      "           2       0.94      0.94      0.94       340\n",
      "           3       0.96      1.00      0.98       127\n",
      "           4       0.93      0.87      0.90        63\n",
      "\n",
      "    accuracy                           0.93       596\n",
      "   macro avg       0.91      0.91      0.91       596\n",
      "weighted avg       0.93      0.93      0.93       596\n",
      "\n",
      "Confusion Matrix:\n",
      " [[ 54  12   0   0]\n",
      " [ 12 319   5   4]\n",
      " [  0   0 127   0]\n",
      " [  0   8   0  55]]\n"
     ]
    }
   ],
   "execution_count": 26
  },
  {
   "metadata": {
    "ExecuteTime": {
     "end_time": "2024-12-30T04:23:44.379050Z",
     "start_time": "2024-12-30T04:23:44.374467Z"
    }
   },
   "cell_type": "code",
   "source": [
    "# Menyimpan hasil akurasi\n",
    "accuracies = []\n",
    "confusion_matrices = []\n",
    "classification_reports = []"
   ],
   "id": "a6440496e79f1bbd",
   "outputs": [],
   "execution_count": 27
  },
  {
   "metadata": {
    "ExecuteTime": {
     "end_time": "2024-12-30T04:24:04.639964Z",
     "start_time": "2024-12-30T04:23:44.424903Z"
    }
   },
   "cell_type": "code",
   "source": [
    "for train_index, test_index in kf.split(X):\n",
    "    # Akses data dengan .iloc\n",
    "    X_train, X_test = X.iloc[train_index], X.iloc[test_index]\n",
    "    y_train, y_test = y.iloc[train_index], y.iloc[test_index]\n",
    "\n",
    "    # Latih model\n",
    "    model.fit(X_train, y_train)\n",
    "\n",
    "    # Prediksi dan evaluasi\n",
    "    y_pred = model.predict(X_test)\n",
    "\n",
    "    # Evaluasi setiap lipatan\n",
    "    accuracies.append(accuracy_score(y_test, y_pred))\n",
    "    confusion_matrices.append(confusion_matrix(y_test, y_pred))\n",
    "    classification_reports.append(classification_report(y_test, y_pred, output_dict=True))"
   ],
   "id": "13b813c491bdebc6",
   "outputs": [],
   "execution_count": 28
  },
  {
   "metadata": {
    "ExecuteTime": {
     "end_time": "2024-12-30T04:24:04.651580Z",
     "start_time": "2024-12-30T04:24:04.649144Z"
    }
   },
   "cell_type": "code",
   "source": [
    "# Evaluasi keseluruhan\n",
    "print(\"Rata-rata Akurasi:\", sum(accuracies) / len(accuracies))\n",
    "print(\"\\nConfusion Matrix dari lipatan terakhir:\")\n",
    "print(confusion_matrices[-1])\n",
    "print(\"\\nClassification Report dari lipatan terakhir:\")\n",
    "print(classification_reports[-1])"
   ],
   "id": "cbb29e918e38b229",
   "outputs": [
    {
     "name": "stdout",
     "output_type": "stream",
     "text": [
      "Rata-rata Akurasi: 0.9368298460323727\n",
      "\n",
      "Confusion Matrix dari lipatan terakhir:\n",
      "[[ 49  11   0   0]\n",
      " [  7 315   1   4]\n",
      " [  0   3 151   4]\n",
      " [  0   9   1  40]]\n",
      "\n",
      "Classification Report dari lipatan terakhir:\n",
      "{'1': {'precision': 0.875, 'recall': 0.8166666666666667, 'f1-score': 0.8448275862068966, 'support': 60.0}, '2': {'precision': 0.9319526627218935, 'recall': 0.963302752293578, 'f1-score': 0.9473684210526315, 'support': 327.0}, '3': {'precision': 0.9869281045751634, 'recall': 0.9556962025316456, 'f1-score': 0.9710610932475884, 'support': 158.0}, '4': {'precision': 0.8333333333333334, 'recall': 0.8, 'f1-score': 0.8163265306122449, 'support': 50.0}, 'accuracy': 0.9327731092436975, 'macro avg': {'precision': 0.9068035251575975, 'recall': 0.8839164053729724, 'f1-score': 0.8948959077798404, 'support': 595.0}, 'weighted avg': {'precision': 0.9325207191589943, 'recall': 0.9327731092436975, 'f1-score': 0.9323077447400935, 'support': 595.0}}\n"
     ]
    }
   ],
   "execution_count": 29
  },
  {
   "metadata": {
    "ExecuteTime": {
     "end_time": "2024-12-30T04:24:04.707480Z",
     "start_time": "2024-12-30T04:24:04.696233Z"
    }
   },
   "cell_type": "code",
   "source": [
    "report_dict = classification_report(y_test, y_pred, output_dict=True)\n",
    "\n",
    "report_df = pd.DataFrame(report_dict).transpose()\n",
    "\n",
    "report_df"
   ],
   "id": "dde4020be81516b5",
   "outputs": [
    {
     "data": {
      "text/plain": [
       "              precision    recall  f1-score     support\n",
       "1              0.875000  0.816667  0.844828   60.000000\n",
       "2              0.931953  0.963303  0.947368  327.000000\n",
       "3              0.986928  0.955696  0.971061  158.000000\n",
       "4              0.833333  0.800000  0.816327   50.000000\n",
       "accuracy       0.932773  0.932773  0.932773    0.932773\n",
       "macro avg      0.906804  0.883916  0.894896  595.000000\n",
       "weighted avg   0.932521  0.932773  0.932308  595.000000"
      ],
      "text/html": [
       "<div>\n",
       "<style scoped>\n",
       "    .dataframe tbody tr th:only-of-type {\n",
       "        vertical-align: middle;\n",
       "    }\n",
       "\n",
       "    .dataframe tbody tr th {\n",
       "        vertical-align: top;\n",
       "    }\n",
       "\n",
       "    .dataframe thead th {\n",
       "        text-align: right;\n",
       "    }\n",
       "</style>\n",
       "<table border=\"1\" class=\"dataframe\">\n",
       "  <thead>\n",
       "    <tr style=\"text-align: right;\">\n",
       "      <th></th>\n",
       "      <th>precision</th>\n",
       "      <th>recall</th>\n",
       "      <th>f1-score</th>\n",
       "      <th>support</th>\n",
       "    </tr>\n",
       "  </thead>\n",
       "  <tbody>\n",
       "    <tr>\n",
       "      <th>1</th>\n",
       "      <td>0.875000</td>\n",
       "      <td>0.816667</td>\n",
       "      <td>0.844828</td>\n",
       "      <td>60.000000</td>\n",
       "    </tr>\n",
       "    <tr>\n",
       "      <th>2</th>\n",
       "      <td>0.931953</td>\n",
       "      <td>0.963303</td>\n",
       "      <td>0.947368</td>\n",
       "      <td>327.000000</td>\n",
       "    </tr>\n",
       "    <tr>\n",
       "      <th>3</th>\n",
       "      <td>0.986928</td>\n",
       "      <td>0.955696</td>\n",
       "      <td>0.971061</td>\n",
       "      <td>158.000000</td>\n",
       "    </tr>\n",
       "    <tr>\n",
       "      <th>4</th>\n",
       "      <td>0.833333</td>\n",
       "      <td>0.800000</td>\n",
       "      <td>0.816327</td>\n",
       "      <td>50.000000</td>\n",
       "    </tr>\n",
       "    <tr>\n",
       "      <th>accuracy</th>\n",
       "      <td>0.932773</td>\n",
       "      <td>0.932773</td>\n",
       "      <td>0.932773</td>\n",
       "      <td>0.932773</td>\n",
       "    </tr>\n",
       "    <tr>\n",
       "      <th>macro avg</th>\n",
       "      <td>0.906804</td>\n",
       "      <td>0.883916</td>\n",
       "      <td>0.894896</td>\n",
       "      <td>595.000000</td>\n",
       "    </tr>\n",
       "    <tr>\n",
       "      <th>weighted avg</th>\n",
       "      <td>0.932521</td>\n",
       "      <td>0.932773</td>\n",
       "      <td>0.932308</td>\n",
       "      <td>595.000000</td>\n",
       "    </tr>\n",
       "  </tbody>\n",
       "</table>\n",
       "</div>"
      ]
     },
     "execution_count": 30,
     "metadata": {},
     "output_type": "execute_result"
    }
   ],
   "execution_count": 30
  },
  {
   "metadata": {
    "ExecuteTime": {
     "end_time": "2024-12-30T04:24:04.792059Z",
     "start_time": "2024-12-30T04:24:04.780699Z"
    }
   },
   "cell_type": "code",
   "source": [
    "new_input = pd.DataFrame({\n",
    "    'Date': [20],\n",
    "    'Day of the week': ['Monday'],\n",
    "    'CarCount': [1000],\n",
    "    'BikeCount': [10],\n",
    "    'BusCount': [10],\n",
    "    'TruckCount': [0],\n",
    "    'Total': [1020],\n",
    "    'Kategori Waktu': [24]\n",
    "})\n",
    "\n",
    "new_input['Kategori Waktu'] = new_input['Date'].apply(kategori_waktu)\n",
    "\n",
    "new_input = replace_day_with_number(new_input, ['Day of the week'])\n",
    "\n",
    "new_input = new_input[['Date', 'Day of the week', 'CarCount', 'BikeCount', 'BusCount', 'TruckCount', 'Total', 'Kategori Waktu']]\n",
    "\n",
    "prediction = model.predict(new_input)\n",
    "\n",
    "print(f'Predicted Traffic Situation: {convert_traffic_situation_to_answer(prediction[0])}')"
   ],
   "id": "9ee97021ce7d9174",
   "outputs": [
    {
     "name": "stdout",
     "output_type": "stream",
     "text": [
      "Predicted Traffic Situation: heavy\n"
     ]
    }
   ],
   "execution_count": 31
  },
  {
   "metadata": {
    "ExecuteTime": {
     "end_time": "2024-12-30T04:24:05.169945Z",
     "start_time": "2024-12-30T04:24:04.831531Z"
    }
   },
   "cell_type": "code",
   "source": [
    "# Ambil label unik dari data target (y_test)\n",
    "labels = np.unique(y_test)\n",
    "\n",
    "# Confusion Matrix\n",
    "cm = confusion_matrix(y_test, y_pred, labels=labels)\n",
    "\n",
    "# Visualisasi Confusion Matrix\n",
    "plt.figure(figsize=(6, 5))\n",
    "sns.heatmap(cm, annot=True, fmt='d', cmap='Blues', xticklabels=labels, yticklabels=labels)\n",
    "plt.xlabel('Predicted')\n",
    "plt.ylabel('True')\n",
    "plt.title('Confusion Matrix')\n",
    "plt.show()\n",
    "\n",
    "# Visualisasi Akurasi per Lipatan\n",
    "plt.figure(figsize=(8, 6))\n",
    "plt.plot(range(1, len(accuracies) + 1), accuracies, marker='o', color='b', label='Accuracy per Fold')\n",
    "plt.xlabel('Fold')\n",
    "plt.ylabel('Accuracy')\n",
    "plt.title('Accuracy per Fold during K-Fold Cross Validation')\n",
    "plt.grid(True)\n",
    "plt.show()\n",
    "\n",
    "# Visualisasi F1-Score untuk setiap lipatan\n",
    "f1_scores = [report['macro avg']['f1-score'] for report in classification_reports]\n",
    "plt.figure(figsize=(8, 6))\n",
    "plt.plot(range(1, len(f1_scores) + 1), f1_scores, marker='o', color='g', label='F1-Score per Fold')\n",
    "plt.xlabel('Fold')\n",
    "plt.ylabel('F1-Score')\n",
    "plt.title('F1-Score per Fold during K-Fold Cross Validation')\n",
    "plt.grid(True)\n",
    "plt.show()"
   ],
   "id": "b5beb4ec04e3e4a2",
   "outputs": [
    {
     "data": {
      "text/plain": [
       "<Figure size 600x500 with 2 Axes>"
      ],
      "image/png": "[encoded data removed]"
     },
     "metadata": {},
     "output_type": "display_data"
    },
    {
     "data": {
      "text/plain": [
       "<Figure size 800x600 with 1 Axes>"
      ],
      "image/png": "[encoded data removed]"
     },
     "metadata": {},
     "output_type": "display_data"
    },
    {
     "data": {
      "text/plain": [
       "<Figure size 800x600 with 1 Axes>"
      ],
      "image/png": "[encoded data removed]"
     },
     "metadata": {},
     "output_type": "display_data"
    }
   ],
   "execution_count": 32
  },
  {
   "metadata": {
    "ExecuteTime": {
     "end_time": "2024-12-30T04:24:05.192292Z",
     "start_time": "2024-12-30T04:24:05.190861Z"
    }
   },
   "cell_type": "code",
   "source": "",
   "id": "9702ea54f2645148",
   "outputs": [],
   "execution_count": null
  }
 ],
 "metadata": {
  "kernelspec": {
   "display_name": "Python 3",
   "language": "python",
   "name": "python3"
  },
  "language_info": {
   "codemirror_mode": {
    "name": "ipython",
    "version": 2
   },
   "file_extension": ".py",
   "mimetype": "text/x-python",
   "name": "python",
   "nbconvert_exporter": "python",
   "pygments_lexer": "ipython2",
   "version": "2.7.6"
  }
 },
 "nbformat": 4,
 "nbformat_minor": 5
}
