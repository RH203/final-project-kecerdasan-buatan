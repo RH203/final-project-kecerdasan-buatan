{
 "cells": [
  {
   "cell_type": "code",
   "id": "initial_id",
   "metadata": {
    "collapsed": true,
    "ExecuteTime": {
     "end_time": "2025-01-02T02:24:28.315497Z",
     "start_time": "2025-01-02T02:24:28.206914Z"
    }
   },
   "source": [
    "import pandas as pd\n",
    "from sklearn.metrics import accuracy_score, confusion_matrix, classification_report\n",
    "from sklearn.model_selection import train_test_split\n",
    "from knn import KNN\n",
    "from sklearn.model_selection import KFold\n",
    "import matplotlib.pyplot as plt\n",
    "import seaborn as sns\n",
    "import numpy as np\n",
    "from sklearn.preprocessing import StandardScaler\n",
    "from sklearn.decomposition import PCA"
   ],
   "outputs": [],
   "execution_count": 1
  },
  {
   "metadata": {
    "ExecuteTime": {
     "end_time": "2025-01-02T02:24:34.123034Z",
     "start_time": "2025-01-02T02:24:34.113574Z"
    }
   },
   "cell_type": "code",
   "source": "dataset = pd.read_csv('dataset.csv')",
   "id": "6676a0cad756110d",
   "outputs": [],
   "execution_count": 2
  },
  {
   "metadata": {
    "ExecuteTime": {
     "end_time": "2025-01-02T02:24:36.823622Z",
     "start_time": "2025-01-02T02:24:36.820744Z"
    }
   },
   "cell_type": "code",
   "source": [
    "X = dataset[['Date', 'Day of the week', 'CarCount', 'BikeCount', 'BusCount', 'TruckCount', 'Total', 'Kategori Waktu']]\n",
    "\n",
    "y = dataset['Traffic Situation']"
   ],
   "id": "b69c829ba8354f7c",
   "outputs": [],
   "execution_count": 3
  },
  {
   "metadata": {
    "ExecuteTime": {
     "end_time": "2025-01-02T02:24:40.941947Z",
     "start_time": "2025-01-02T02:24:40.935297Z"
    }
   },
   "cell_type": "code",
   "source": "X_train, X_test, y_train, y_test = train_test_split(X, y, test_size=0.2, random_state=42)",
   "id": "fa2d65244695dbb",
   "outputs": [],
   "execution_count": 4
  },
  {
   "metadata": {
    "ExecuteTime": {
     "end_time": "2025-01-02T02:24:46.603551Z",
     "start_time": "2025-01-02T02:24:46.601204Z"
    }
   },
   "cell_type": "code",
   "source": "model = KNN(k=7)",
   "id": "14ff9c882bce9907",
   "outputs": [],
   "execution_count": 5
  },
  {
   "metadata": {
    "ExecuteTime": {
     "end_time": "2025-01-02T02:24:50.397786Z",
     "start_time": "2025-01-02T02:24:50.394099Z"
    }
   },
   "cell_type": "code",
   "source": "kf = KFold(n_splits=5, shuffle=True, random_state=42)",
   "id": "1ef9978565ed9a5b",
   "outputs": [],
   "execution_count": 6
  },
  {
   "metadata": {
    "ExecuteTime": {
     "end_time": "2025-01-02T02:24:57.885685Z",
     "start_time": "2025-01-02T02:24:53.753700Z"
    }
   },
   "cell_type": "code",
   "source": [
    "model.fit(X_train, y_train)\n",
    "y_pred = model.predict(X_test)"
   ],
   "id": "8a979ae1f4188ae2",
   "outputs": [],
   "execution_count": 7
  },
  {
   "metadata": {
    "ExecuteTime": {
     "end_time": "2025-01-02T02:25:03.805871Z",
     "start_time": "2025-01-02T02:25:03.795578Z"
    }
   },
   "cell_type": "code",
   "source": [
    "print(\"Accuracy:\", accuracy_score(y_test, y_pred))\n",
    "print(\"Classification Report:\\n\", classification_report(y_test, y_pred))\n",
    "print(\"Confusion Matrix:\\n\", confusion_matrix(y_test, y_pred))\n"
   ],
   "id": "b2102cf5f0afec8d",
   "outputs": [
    {
     "name": "stdout",
     "output_type": "stream",
     "text": [
      "Accuracy: 0.9312080536912751\n",
      "Classification Report:\n",
      "               precision    recall  f1-score   support\n",
      "\n",
      "           1       0.82      0.83      0.83        66\n",
      "           2       0.94      0.94      0.94       340\n",
      "           3       0.96      1.00      0.98       127\n",
      "           4       0.93      0.86      0.89        63\n",
      "\n",
      "    accuracy                           0.93       596\n",
      "   macro avg       0.91      0.91      0.91       596\n",
      "weighted avg       0.93      0.93      0.93       596\n",
      "\n",
      "Confusion Matrix:\n",
      " [[ 55  11   0   0]\n",
      " [ 12 319   5   4]\n",
      " [  0   0 127   0]\n",
      " [  0   9   0  54]]\n"
     ]
    }
   ],
   "execution_count": 8
  },
  {
   "metadata": {
    "ExecuteTime": {
     "end_time": "2025-01-02T02:25:04.234762Z",
     "start_time": "2025-01-02T02:25:04.231623Z"
    }
   },
   "cell_type": "code",
   "source": [
    "# Menyimpan hasil akurasi\n",
    "accuracies = []\n",
    "confusion_matrices = []\n",
    "classification_reports = []"
   ],
   "id": "f2d3d7d643b1fb94",
   "outputs": [],
   "execution_count": 9
  },
  {
   "metadata": {
    "ExecuteTime": {
     "end_time": "2025-01-02T02:25:30.047683Z",
     "start_time": "2025-01-02T02:25:09.475093Z"
    }
   },
   "cell_type": "code",
   "source": [
    "for train_index, test_index in kf.split(X):\n",
    "    # Akses data dengan .iloc\n",
    "    X_train, X_test = X.iloc[train_index], X.iloc[test_index]\n",
    "    y_train, y_test = y.iloc[train_index], y.iloc[test_index]\n",
    "\n",
    "    # Latih model\n",
    "    model.fit(X_train, y_train)\n",
    "\n",
    "    # Prediksi dan evaluasi\n",
    "    y_pred = model.predict(X_test)\n",
    "\n",
    "    # Evaluasi setiap lipatan\n",
    "    accuracies.append(accuracy_score(y_test, y_pred))\n",
    "    confusion_matrices.append(confusion_matrix(y_test, y_pred))\n",
    "    classification_reports.append(classification_report(y_test, y_pred, output_dict=True))"
   ],
   "id": "8bd0e6b30669a40",
   "outputs": [],
   "execution_count": 10
  },
  {
   "metadata": {
    "ExecuteTime": {
     "end_time": "2025-01-02T02:25:32.583227Z",
     "start_time": "2025-01-02T02:25:32.578454Z"
    }
   },
   "cell_type": "code",
   "source": [
    "# Evaluasi keseluruhan\n",
    "print(\"Rata-rata Akurasi:\", sum(accuracies) / len(accuracies))\n",
    "print(\"\\nConfusion Matrix dari lipatan terakhir:\")\n",
    "print(confusion_matrices[-1])\n",
    "print(\"\\nClassification Report dari lipatan terakhir:\")\n",
    "print(classification_reports[-1])"
   ],
   "id": "15f8f4f6fab2f484",
   "outputs": [
    {
     "name": "stdout",
     "output_type": "stream",
     "text": [
      "Rata-rata Akurasi: 0.9354853082172466\n",
      "\n",
      "Confusion Matrix dari lipatan terakhir:\n",
      "[[ 45  15   0   0]\n",
      " [  7 316   2   2]\n",
      " [  0   3 152   3]\n",
      " [  0  10   1  39]]\n",
      "\n",
      "Classification Report dari lipatan terakhir:\n",
      "{'1': {'precision': 0.8653846153846154, 'recall': 0.75, 'f1-score': 0.8035714285714286, 'support': 60.0}, '2': {'precision': 0.9186046511627907, 'recall': 0.9663608562691132, 'f1-score': 0.9418777943368107, 'support': 327.0}, '3': {'precision': 0.9806451612903225, 'recall': 0.9620253164556962, 'f1-score': 0.9712460063897763, 'support': 158.0}, '4': {'precision': 0.8863636363636364, 'recall': 0.78, 'f1-score': 0.8297872340425532, 'support': 50.0}, 'accuracy': 0.9277310924369748, 'macro avg': {'precision': 0.9127495160503412, 'recall': 0.8645965431812024, 'f1-score': 0.8866206158351422, 'support': 595.0}, 'weighted avg': {'precision': 0.927003218748508, 'recall': 0.9277310924369748, 'f1-score': 0.9263101767632523, 'support': 595.0}}\n"
     ]
    }
   ],
   "execution_count": 11
  },
  {
   "metadata": {
    "ExecuteTime": {
     "end_time": "2025-01-02T02:25:33.334646Z",
     "start_time": "2025-01-02T02:25:33.317060Z"
    }
   },
   "cell_type": "code",
   "source": [
    "report_dict = classification_report(y_test, y_pred, output_dict=True)\n",
    "\n",
    "report_df = pd.DataFrame(report_dict).transpose()\n",
    "\n",
    "report_df"
   ],
   "id": "e4639a4be72c7be2",
   "outputs": [
    {
     "data": {
      "text/plain": [
       "              precision    recall  f1-score     support\n",
       "1              0.865385  0.750000  0.803571   60.000000\n",
       "2              0.918605  0.966361  0.941878  327.000000\n",
       "3              0.980645  0.962025  0.971246  158.000000\n",
       "4              0.886364  0.780000  0.829787   50.000000\n",
       "accuracy       0.927731  0.927731  0.927731    0.927731\n",
       "macro avg      0.912750  0.864597  0.886621  595.000000\n",
       "weighted avg   0.927003  0.927731  0.926310  595.000000"
      ],
      "text/html": [
       "<div>\n",
       "<style scoped>\n",
       "    .dataframe tbody tr th:only-of-type {\n",
       "        vertical-align: middle;\n",
       "    }\n",
       "\n",
       "    .dataframe tbody tr th {\n",
       "        vertical-align: top;\n",
       "    }\n",
       "\n",
       "    .dataframe thead th {\n",
       "        text-align: right;\n",
       "    }\n",
       "</style>\n",
       "<table border=\"1\" class=\"dataframe\">\n",
       "  <thead>\n",
       "    <tr style=\"text-align: right;\">\n",
       "      <th></th>\n",
       "      <th>precision</th>\n",
       "      <th>recall</th>\n",
       "      <th>f1-score</th>\n",
       "      <th>support</th>\n",
       "    </tr>\n",
       "  </thead>\n",
       "  <tbody>\n",
       "    <tr>\n",
       "      <th>1</th>\n",
       "      <td>0.865385</td>\n",
       "      <td>0.750000</td>\n",
       "      <td>0.803571</td>\n",
       "      <td>60.000000</td>\n",
       "    </tr>\n",
       "    <tr>\n",
       "      <th>2</th>\n",
       "      <td>0.918605</td>\n",
       "      <td>0.966361</td>\n",
       "      <td>0.941878</td>\n",
       "      <td>327.000000</td>\n",
       "    </tr>\n",
       "    <tr>\n",
       "      <th>3</th>\n",
       "      <td>0.980645</td>\n",
       "      <td>0.962025</td>\n",
       "      <td>0.971246</td>\n",
       "      <td>158.000000</td>\n",
       "    </tr>\n",
       "    <tr>\n",
       "      <th>4</th>\n",
       "      <td>0.886364</td>\n",
       "      <td>0.780000</td>\n",
       "      <td>0.829787</td>\n",
       "      <td>50.000000</td>\n",
       "    </tr>\n",
       "    <tr>\n",
       "      <th>accuracy</th>\n",
       "      <td>0.927731</td>\n",
       "      <td>0.927731</td>\n",
       "      <td>0.927731</td>\n",
       "      <td>0.927731</td>\n",
       "    </tr>\n",
       "    <tr>\n",
       "      <th>macro avg</th>\n",
       "      <td>0.912750</td>\n",
       "      <td>0.864597</td>\n",
       "      <td>0.886621</td>\n",
       "      <td>595.000000</td>\n",
       "    </tr>\n",
       "    <tr>\n",
       "      <th>weighted avg</th>\n",
       "      <td>0.927003</td>\n",
       "      <td>0.927731</td>\n",
       "      <td>0.926310</td>\n",
       "      <td>595.000000</td>\n",
       "    </tr>\n",
       "  </tbody>\n",
       "</table>\n",
       "</div>"
      ]
     },
     "execution_count": 12,
     "metadata": {},
     "output_type": "execute_result"
    }
   ],
   "execution_count": 12
  },
  {
   "metadata": {},
   "cell_type": "code",
   "outputs": [],
   "execution_count": null,
   "source": "",
   "id": "7e9d0423cc96fbbc"
  }
 ],
 "metadata": {
  "kernelspec": {
   "display_name": "Python 3",
   "language": "python",
   "name": "python3"
  },
  "language_info": {
   "codemirror_mode": {
    "name": "ipython",
    "version": 2
   },
   "file_extension": ".py",
   "mimetype": "text/x-python",
   "name": "python",
   "nbconvert_exporter": "python",
   "pygments_lexer": "ipython2",
   "version": "2.7.6"
  }
 },
 "nbformat": 4,
 "nbformat_minor": 5
}
