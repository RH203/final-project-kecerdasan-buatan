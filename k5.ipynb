{
 "cells": [
  {
   "cell_type": "code",
   "id": "initial_id",
   "metadata": {
    "collapsed": true,
    "ExecuteTime": {
     "end_time": "2025-01-02T02:22:35.996015Z",
     "start_time": "2025-01-02T02:22:35.992642Z"
    }
   },
   "source": [
    "import pandas as pd\n",
    "from sklearn.metrics import accuracy_score, confusion_matrix, classification_report\n",
    "from sklearn.model_selection import train_test_split\n",
    "from knn import KNN\n",
    "from sklearn.model_selection import KFold\n",
    "import matplotlib.pyplot as plt\n",
    "import seaborn as sns\n",
    "import numpy as np\n",
    "from sklearn.preprocessing import StandardScaler\n",
    "from sklearn.decomposition import PCA"
   ],
   "outputs": [],
   "execution_count": 2
  },
  {
   "metadata": {
    "ExecuteTime": {
     "end_time": "2025-01-02T02:22:52.453502Z",
     "start_time": "2025-01-02T02:22:52.447219Z"
    }
   },
   "cell_type": "code",
   "source": "dataset = pd.read_csv('dataset.csv')",
   "id": "349424fa14c8a132",
   "outputs": [],
   "execution_count": 3
  },
  {
   "metadata": {
    "ExecuteTime": {
     "end_time": "2025-01-02T02:22:52.971816Z",
     "start_time": "2025-01-02T02:22:52.966985Z"
    }
   },
   "cell_type": "code",
   "source": [
    "X = dataset[['Date', 'Day of the week', 'CarCount', 'BikeCount', 'BusCount', 'TruckCount', 'Total', 'Kategori Waktu']]\n",
    "# X = dataset['Date', 'Day of the week']\n",
    "y = dataset['Traffic Situation']"
   ],
   "id": "736c6db6740816cc",
   "outputs": [],
   "execution_count": 4
  },
  {
   "metadata": {
    "ExecuteTime": {
     "end_time": "2025-01-02T02:23:00.163600Z",
     "start_time": "2025-01-02T02:23:00.160356Z"
    }
   },
   "cell_type": "code",
   "source": "X_train, X_test, y_train, y_test = train_test_split(X, y, test_size=0.2, random_state=42)",
   "id": "cb48b380287586f4",
   "outputs": [],
   "execution_count": 5
  },
  {
   "metadata": {
    "ExecuteTime": {
     "end_time": "2025-01-02T02:23:07.697646Z",
     "start_time": "2025-01-02T02:23:07.695446Z"
    }
   },
   "cell_type": "code",
   "source": "model = KNN(k=5)",
   "id": "bb76318c004681be",
   "outputs": [],
   "execution_count": 6
  },
  {
   "metadata": {
    "ExecuteTime": {
     "end_time": "2025-01-02T02:23:11.904500Z",
     "start_time": "2025-01-02T02:23:11.901690Z"
    }
   },
   "cell_type": "code",
   "source": "kf = KFold(n_splits=5, shuffle=True, random_state=42)",
   "id": "d783062d09994fe8",
   "outputs": [],
   "execution_count": 7
  },
  {
   "metadata": {
    "ExecuteTime": {
     "end_time": "2025-01-02T02:23:20.007716Z",
     "start_time": "2025-01-02T02:23:15.765057Z"
    }
   },
   "cell_type": "code",
   "source": [
    "model.fit(X_train, y_train)\n",
    "y_pred = model.predict(X_test)"
   ],
   "id": "3164b3176759c790",
   "outputs": [],
   "execution_count": 8
  },
  {
   "metadata": {
    "ExecuteTime": {
     "end_time": "2025-01-02T02:23:24.537986Z",
     "start_time": "2025-01-02T02:23:24.525705Z"
    }
   },
   "cell_type": "code",
   "source": [
    "print(\"Accuracy:\", accuracy_score(y_test, y_pred))\n",
    "print(\"Classification Report:\\n\", classification_report(y_test, y_pred))\n",
    "print(\"Confusion Matrix:\\n\", confusion_matrix(y_test, y_pred))\n"
   ],
   "id": "cfc12c49ee8e4092",
   "outputs": [
    {
     "name": "stdout",
     "output_type": "stream",
     "text": [
      "Accuracy: 0.9312080536912751\n",
      "Classification Report:\n",
      "               precision    recall  f1-score   support\n",
      "\n",
      "           1       0.82      0.82      0.82        66\n",
      "           2       0.94      0.94      0.94       340\n",
      "           3       0.96      1.00      0.98       127\n",
      "           4       0.93      0.87      0.90        63\n",
      "\n",
      "    accuracy                           0.93       596\n",
      "   macro avg       0.91      0.91      0.91       596\n",
      "weighted avg       0.93      0.93      0.93       596\n",
      "\n",
      "Confusion Matrix:\n",
      " [[ 54  12   0   0]\n",
      " [ 12 319   5   4]\n",
      " [  0   0 127   0]\n",
      " [  0   8   0  55]]\n"
     ]
    }
   ],
   "execution_count": 9
  },
  {
   "metadata": {
    "ExecuteTime": {
     "end_time": "2025-01-02T02:23:42.917296Z",
     "start_time": "2025-01-02T02:23:42.906678Z"
    }
   },
   "cell_type": "code",
   "source": [
    "# Menyimpan hasil akurasi\n",
    "accuracies = []\n",
    "confusion_matrices = []\n",
    "classification_reports = []"
   ],
   "id": "1dab234f090adb17",
   "outputs": [],
   "execution_count": 10
  },
  {
   "metadata": {
    "ExecuteTime": {
     "end_time": "2025-01-02T02:24:03.869572Z",
     "start_time": "2025-01-02T02:23:43.183476Z"
    }
   },
   "cell_type": "code",
   "source": [
    "for train_index, test_index in kf.split(X):\n",
    "    # Akses data dengan .iloc\n",
    "    X_train, X_test = X.iloc[train_index], X.iloc[test_index]\n",
    "    y_train, y_test = y.iloc[train_index], y.iloc[test_index]\n",
    "\n",
    "    # Latih model\n",
    "    model.fit(X_train, y_train)\n",
    "\n",
    "    # Prediksi dan evaluasi\n",
    "    y_pred = model.predict(X_test)\n",
    "\n",
    "    # Evaluasi setiap lipatan\n",
    "    accuracies.append(accuracy_score(y_test, y_pred))\n",
    "    confusion_matrices.append(confusion_matrix(y_test, y_pred))\n",
    "    classification_reports.append(classification_report(y_test, y_pred, output_dict=True))"
   ],
   "id": "674479083572908d",
   "outputs": [],
   "execution_count": 11
  },
  {
   "metadata": {
    "ExecuteTime": {
     "end_time": "2025-01-02T02:24:07.243823Z",
     "start_time": "2025-01-02T02:24:07.240607Z"
    }
   },
   "cell_type": "code",
   "source": [
    "# Evaluasi keseluruhan\n",
    "print(\"Rata-rata Akurasi:\", sum(accuracies) / len(accuracies))\n",
    "print(\"\\nConfusion Matrix dari lipatan terakhir:\")\n",
    "print(confusion_matrices[-1])\n",
    "print(\"\\nClassification Report dari lipatan terakhir:\")\n",
    "print(classification_reports[-1])"
   ],
   "id": "836f4a3cf63fc4d8",
   "outputs": [
    {
     "name": "stdout",
     "output_type": "stream",
     "text": [
      "Rata-rata Akurasi: 0.9368298460323727\n",
      "\n",
      "Confusion Matrix dari lipatan terakhir:\n",
      "[[ 49  11   0   0]\n",
      " [  7 315   1   4]\n",
      " [  0   3 151   4]\n",
      " [  0   9   1  40]]\n",
      "\n",
      "Classification Report dari lipatan terakhir:\n",
      "{'1': {'precision': 0.875, 'recall': 0.8166666666666667, 'f1-score': 0.8448275862068966, 'support': 60.0}, '2': {'precision': 0.9319526627218935, 'recall': 0.963302752293578, 'f1-score': 0.9473684210526315, 'support': 327.0}, '3': {'precision': 0.9869281045751634, 'recall': 0.9556962025316456, 'f1-score': 0.9710610932475884, 'support': 158.0}, '4': {'precision': 0.8333333333333334, 'recall': 0.8, 'f1-score': 0.8163265306122449, 'support': 50.0}, 'accuracy': 0.9327731092436975, 'macro avg': {'precision': 0.9068035251575975, 'recall': 0.8839164053729724, 'f1-score': 0.8948959077798404, 'support': 595.0}, 'weighted avg': {'precision': 0.9325207191589943, 'recall': 0.9327731092436975, 'f1-score': 0.9323077447400935, 'support': 595.0}}\n"
     ]
    }
   ],
   "execution_count": 12
  },
  {
   "metadata": {
    "ExecuteTime": {
     "end_time": "2025-01-02T02:24:11.621601Z",
     "start_time": "2025-01-02T02:24:11.609114Z"
    }
   },
   "cell_type": "code",
   "source": [
    "report_dict = classification_report(y_test, y_pred, output_dict=True)\n",
    "\n",
    "report_df = pd.DataFrame(report_dict).transpose()\n",
    "\n",
    "report_df"
   ],
   "id": "c8abdfc2127a0d78",
   "outputs": [
    {
     "data": {
      "text/plain": [
       "              precision    recall  f1-score     support\n",
       "1              0.875000  0.816667  0.844828   60.000000\n",
       "2              0.931953  0.963303  0.947368  327.000000\n",
       "3              0.986928  0.955696  0.971061  158.000000\n",
       "4              0.833333  0.800000  0.816327   50.000000\n",
       "accuracy       0.932773  0.932773  0.932773    0.932773\n",
       "macro avg      0.906804  0.883916  0.894896  595.000000\n",
       "weighted avg   0.932521  0.932773  0.932308  595.000000"
      ],
      "text/html": [
       "<div>\n",
       "<style scoped>\n",
       "    .dataframe tbody tr th:only-of-type {\n",
       "        vertical-align: middle;\n",
       "    }\n",
       "\n",
       "    .dataframe tbody tr th {\n",
       "        vertical-align: top;\n",
       "    }\n",
       "\n",
       "    .dataframe thead th {\n",
       "        text-align: right;\n",
       "    }\n",
       "</style>\n",
       "<table border=\"1\" class=\"dataframe\">\n",
       "  <thead>\n",
       "    <tr style=\"text-align: right;\">\n",
       "      <th></th>\n",
       "      <th>precision</th>\n",
       "      <th>recall</th>\n",
       "      <th>f1-score</th>\n",
       "      <th>support</th>\n",
       "    </tr>\n",
       "  </thead>\n",
       "  <tbody>\n",
       "    <tr>\n",
       "      <th>1</th>\n",
       "      <td>0.875000</td>\n",
       "      <td>0.816667</td>\n",
       "      <td>0.844828</td>\n",
       "      <td>60.000000</td>\n",
       "    </tr>\n",
       "    <tr>\n",
       "      <th>2</th>\n",
       "      <td>0.931953</td>\n",
       "      <td>0.963303</td>\n",
       "      <td>0.947368</td>\n",
       "      <td>327.000000</td>\n",
       "    </tr>\n",
       "    <tr>\n",
       "      <th>3</th>\n",
       "      <td>0.986928</td>\n",
       "      <td>0.955696</td>\n",
       "      <td>0.971061</td>\n",
       "      <td>158.000000</td>\n",
       "    </tr>\n",
       "    <tr>\n",
       "      <th>4</th>\n",
       "      <td>0.833333</td>\n",
       "      <td>0.800000</td>\n",
       "      <td>0.816327</td>\n",
       "      <td>50.000000</td>\n",
       "    </tr>\n",
       "    <tr>\n",
       "      <th>accuracy</th>\n",
       "      <td>0.932773</td>\n",
       "      <td>0.932773</td>\n",
       "      <td>0.932773</td>\n",
       "      <td>0.932773</td>\n",
       "    </tr>\n",
       "    <tr>\n",
       "      <th>macro avg</th>\n",
       "      <td>0.906804</td>\n",
       "      <td>0.883916</td>\n",
       "      <td>0.894896</td>\n",
       "      <td>595.000000</td>\n",
       "    </tr>\n",
       "    <tr>\n",
       "      <th>weighted avg</th>\n",
       "      <td>0.932521</td>\n",
       "      <td>0.932773</td>\n",
       "      <td>0.932308</td>\n",
       "      <td>595.000000</td>\n",
       "    </tr>\n",
       "  </tbody>\n",
       "</table>\n",
       "</div>"
      ]
     },
     "execution_count": 13,
     "metadata": {},
     "output_type": "execute_result"
    }
   ],
   "execution_count": 13
  },
  {
   "metadata": {},
   "cell_type": "code",
   "outputs": [],
   "execution_count": null,
   "source": "",
   "id": "cf218a7332b354a2"
  }
 ],
 "metadata": {
  "kernelspec": {
   "display_name": "Python 3",
   "language": "python",
   "name": "python3"
  },
  "language_info": {
   "codemirror_mode": {
    "name": "ipython",
    "version": 2
   },
   "file_extension": ".py",
   "mimetype": "text/x-python",
   "name": "python",
   "nbconvert_exporter": "python",
   "pygments_lexer": "ipython2",
   "version": "2.7.6"
  }
 },
 "nbformat": 4,
 "nbformat_minor": 5
}
